{
  "cells": [
    {
      "cell_type": "code",
      "execution_count": null,
      "metadata": {
        "id": "LyMH5xBiR34G"
      },
      "outputs": [],
      "source": [
        "from IPython.core.interactiveshell import InteractiveShell\n",
        "InteractiveShell.ast_node_interactivity='all'"
      ]
    },
    {
      "cell_type": "code",
      "execution_count": 76,
      "metadata": {
        "id": "jans7hfRR34J"
      },
      "outputs": [],
      "source": [
        "import pandas as pd\n",
        "import matplotlib.pyplot as plt\n",
        "import sklearn as skt\n",
        "import seaborn as sns"
      ]
    },
    {
      "cell_type": "code",
      "execution_count": 77,
      "metadata": {
        "colab": {
          "base_uri": "https://localhost:8080/",
          "height": 395
        },
        "id": "xvrcD1c6R34J",
        "outputId": "f291d90a-652f-4972-c268-6efe7cfe7f23"
      },
      "outputs": [
        {
          "output_type": "stream",
          "name": "stderr",
          "text": [
            "/usr/local/lib/python3.8/dist-packages/IPython/core/interactiveshell.py:3326: DtypeWarning: Columns (0,8,10,11,14,15,16,17,25,26,28,29,30) have mixed types.Specify dtype option on import or set low_memory=False.\n",
            "  exec(code_obj, self.user_global_ns, self.user_ns)\n"
          ]
        },
        {
          "output_type": "execute_result",
          "data": {
            "text/plain": [
              "        CustomerKey  SalesOrderLineNumber  OrderQuantity    ProductKey  \\\n",
              "count  60398.000000          60398.000000        60398.0  60398.000000   \n",
              "mean   18841.685420              1.886321            1.0    437.557932   \n",
              "std     5432.430404              1.016328            0.0    118.088390   \n",
              "min    11000.000000              1.000000            1.0    214.000000   \n",
              "25%    14003.000000              1.000000            1.0    359.000000   \n",
              "50%    18143.000000              2.000000            1.0    479.000000   \n",
              "75%    23429.750000              2.000000            1.0    529.000000   \n",
              "max    29483.000000              8.000000            1.0    606.000000   \n",
              "\n",
              "       SalesTerritoryKey   SalesAmount  ProductKey.1  ProductSubcategoryKey  \\\n",
              "count       60398.000000  60398.000000     606.00000              37.000000   \n",
              "mean            6.244462    486.086911     303.50000              19.000000   \n",
              "std             2.961150    928.489892     175.08141              10.824355   \n",
              "min             1.000000      2.290000       1.00000               1.000000   \n",
              "25%             4.000000      7.950000     152.25000              10.000000   \n",
              "50%             7.000000     29.990000     303.50000              19.000000   \n",
              "75%             9.000000    539.990000     454.75000              28.000000   \n",
              "max            10.000000   3578.270000     606.00000              37.000000   \n",
              "\n",
              "       SalesTerritoryKey.1  CalendarYear       DateKey  DayNumberOfMonth  \\\n",
              "count            11.000000   3652.000000  3.652000e+03       3652.000000   \n",
              "mean              6.000000   2009.500274  2.009567e+07         15.727820   \n",
              "std               3.316625      2.872293  2.872496e+04          8.800529   \n",
              "min               1.000000   2005.000000  2.005010e+07          1.000000   \n",
              "25%               3.500000   2007.000000  2.007070e+07          8.000000   \n",
              "50%               6.000000   2009.500000  2.009567e+07         16.000000   \n",
              "75%               8.500000   2012.000000  2.012070e+07         23.000000   \n",
              "max              11.000000   2014.000000  2.014123e+07         31.000000   \n",
              "\n",
              "       DayNumberOfYear  DayNumberOfWeek   FiscalYear  CustomerKey.1  \\\n",
              "count      3652.000000      3652.000000  3652.000000   18484.000000   \n",
              "mean        183.100219         3.999179  2009.604053   20241.500000   \n",
              "std         105.438580         2.000479     2.517833    5336.015523   \n",
              "min           1.000000         1.000000  2005.000000   11000.000000   \n",
              "25%          92.000000         2.000000  2008.000000   15620.750000   \n",
              "50%         183.000000         4.000000  2010.000000   20241.500000   \n",
              "75%         274.000000         6.000000  2012.000000   24862.250000   \n",
              "max         366.000000         7.000000  2014.000000   29483.000000   \n",
              "\n",
              "        YearlyIncome  \n",
              "count   18484.000000  \n",
              "mean    57305.777970  \n",
              "std     32285.841703  \n",
              "min     10000.000000  \n",
              "25%     30000.000000  \n",
              "50%     60000.000000  \n",
              "75%     70000.000000  \n",
              "max    170000.000000  "
            ],
            "text/html": [
              "\n",
              "  <div id=\"df-4551042f-cd24-4092-b034-4824af44c222\">\n",
              "    <div class=\"colab-df-container\">\n",
              "      <div>\n",
              "<style scoped>\n",
              "    .dataframe tbody tr th:only-of-type {\n",
              "        vertical-align: middle;\n",
              "    }\n",
              "\n",
              "    .dataframe tbody tr th {\n",
              "        vertical-align: top;\n",
              "    }\n",
              "\n",
              "    .dataframe thead th {\n",
              "        text-align: right;\n",
              "    }\n",
              "</style>\n",
              "<table border=\"1\" class=\"dataframe\">\n",
              "  <thead>\n",
              "    <tr style=\"text-align: right;\">\n",
              "      <th></th>\n",
              "      <th>CustomerKey</th>\n",
              "      <th>SalesOrderLineNumber</th>\n",
              "      <th>OrderQuantity</th>\n",
              "      <th>ProductKey</th>\n",
              "      <th>SalesTerritoryKey</th>\n",
              "      <th>SalesAmount</th>\n",
              "      <th>ProductKey.1</th>\n",
              "      <th>ProductSubcategoryKey</th>\n",
              "      <th>SalesTerritoryKey.1</th>\n",
              "      <th>CalendarYear</th>\n",
              "      <th>DateKey</th>\n",
              "      <th>DayNumberOfMonth</th>\n",
              "      <th>DayNumberOfYear</th>\n",
              "      <th>DayNumberOfWeek</th>\n",
              "      <th>FiscalYear</th>\n",
              "      <th>CustomerKey.1</th>\n",
              "      <th>YearlyIncome</th>\n",
              "    </tr>\n",
              "  </thead>\n",
              "  <tbody>\n",
              "    <tr>\n",
              "      <th>count</th>\n",
              "      <td>60398.000000</td>\n",
              "      <td>60398.000000</td>\n",
              "      <td>60398.0</td>\n",
              "      <td>60398.000000</td>\n",
              "      <td>60398.000000</td>\n",
              "      <td>60398.000000</td>\n",
              "      <td>606.00000</td>\n",
              "      <td>37.000000</td>\n",
              "      <td>11.000000</td>\n",
              "      <td>3652.000000</td>\n",
              "      <td>3.652000e+03</td>\n",
              "      <td>3652.000000</td>\n",
              "      <td>3652.000000</td>\n",
              "      <td>3652.000000</td>\n",
              "      <td>3652.000000</td>\n",
              "      <td>18484.000000</td>\n",
              "      <td>18484.000000</td>\n",
              "    </tr>\n",
              "    <tr>\n",
              "      <th>mean</th>\n",
              "      <td>18841.685420</td>\n",
              "      <td>1.886321</td>\n",
              "      <td>1.0</td>\n",
              "      <td>437.557932</td>\n",
              "      <td>6.244462</td>\n",
              "      <td>486.086911</td>\n",
              "      <td>303.50000</td>\n",
              "      <td>19.000000</td>\n",
              "      <td>6.000000</td>\n",
              "      <td>2009.500274</td>\n",
              "      <td>2.009567e+07</td>\n",
              "      <td>15.727820</td>\n",
              "      <td>183.100219</td>\n",
              "      <td>3.999179</td>\n",
              "      <td>2009.604053</td>\n",
              "      <td>20241.500000</td>\n",
              "      <td>57305.777970</td>\n",
              "    </tr>\n",
              "    <tr>\n",
              "      <th>std</th>\n",
              "      <td>5432.430404</td>\n",
              "      <td>1.016328</td>\n",
              "      <td>0.0</td>\n",
              "      <td>118.088390</td>\n",
              "      <td>2.961150</td>\n",
              "      <td>928.489892</td>\n",
              "      <td>175.08141</td>\n",
              "      <td>10.824355</td>\n",
              "      <td>3.316625</td>\n",
              "      <td>2.872293</td>\n",
              "      <td>2.872496e+04</td>\n",
              "      <td>8.800529</td>\n",
              "      <td>105.438580</td>\n",
              "      <td>2.000479</td>\n",
              "      <td>2.517833</td>\n",
              "      <td>5336.015523</td>\n",
              "      <td>32285.841703</td>\n",
              "    </tr>\n",
              "    <tr>\n",
              "      <th>min</th>\n",
              "      <td>11000.000000</td>\n",
              "      <td>1.000000</td>\n",
              "      <td>1.0</td>\n",
              "      <td>214.000000</td>\n",
              "      <td>1.000000</td>\n",
              "      <td>2.290000</td>\n",
              "      <td>1.00000</td>\n",
              "      <td>1.000000</td>\n",
              "      <td>1.000000</td>\n",
              "      <td>2005.000000</td>\n",
              "      <td>2.005010e+07</td>\n",
              "      <td>1.000000</td>\n",
              "      <td>1.000000</td>\n",
              "      <td>1.000000</td>\n",
              "      <td>2005.000000</td>\n",
              "      <td>11000.000000</td>\n",
              "      <td>10000.000000</td>\n",
              "    </tr>\n",
              "    <tr>\n",
              "      <th>25%</th>\n",
              "      <td>14003.000000</td>\n",
              "      <td>1.000000</td>\n",
              "      <td>1.0</td>\n",
              "      <td>359.000000</td>\n",
              "      <td>4.000000</td>\n",
              "      <td>7.950000</td>\n",
              "      <td>152.25000</td>\n",
              "      <td>10.000000</td>\n",
              "      <td>3.500000</td>\n",
              "      <td>2007.000000</td>\n",
              "      <td>2.007070e+07</td>\n",
              "      <td>8.000000</td>\n",
              "      <td>92.000000</td>\n",
              "      <td>2.000000</td>\n",
              "      <td>2008.000000</td>\n",
              "      <td>15620.750000</td>\n",
              "      <td>30000.000000</td>\n",
              "    </tr>\n",
              "    <tr>\n",
              "      <th>50%</th>\n",
              "      <td>18143.000000</td>\n",
              "      <td>2.000000</td>\n",
              "      <td>1.0</td>\n",
              "      <td>479.000000</td>\n",
              "      <td>7.000000</td>\n",
              "      <td>29.990000</td>\n",
              "      <td>303.50000</td>\n",
              "      <td>19.000000</td>\n",
              "      <td>6.000000</td>\n",
              "      <td>2009.500000</td>\n",
              "      <td>2.009567e+07</td>\n",
              "      <td>16.000000</td>\n",
              "      <td>183.000000</td>\n",
              "      <td>4.000000</td>\n",
              "      <td>2010.000000</td>\n",
              "      <td>20241.500000</td>\n",
              "      <td>60000.000000</td>\n",
              "    </tr>\n",
              "    <tr>\n",
              "      <th>75%</th>\n",
              "      <td>23429.750000</td>\n",
              "      <td>2.000000</td>\n",
              "      <td>1.0</td>\n",
              "      <td>529.000000</td>\n",
              "      <td>9.000000</td>\n",
              "      <td>539.990000</td>\n",
              "      <td>454.75000</td>\n",
              "      <td>28.000000</td>\n",
              "      <td>8.500000</td>\n",
              "      <td>2012.000000</td>\n",
              "      <td>2.012070e+07</td>\n",
              "      <td>23.000000</td>\n",
              "      <td>274.000000</td>\n",
              "      <td>6.000000</td>\n",
              "      <td>2012.000000</td>\n",
              "      <td>24862.250000</td>\n",
              "      <td>70000.000000</td>\n",
              "    </tr>\n",
              "    <tr>\n",
              "      <th>max</th>\n",
              "      <td>29483.000000</td>\n",
              "      <td>8.000000</td>\n",
              "      <td>1.0</td>\n",
              "      <td>606.000000</td>\n",
              "      <td>10.000000</td>\n",
              "      <td>3578.270000</td>\n",
              "      <td>606.00000</td>\n",
              "      <td>37.000000</td>\n",
              "      <td>11.000000</td>\n",
              "      <td>2014.000000</td>\n",
              "      <td>2.014123e+07</td>\n",
              "      <td>31.000000</td>\n",
              "      <td>366.000000</td>\n",
              "      <td>7.000000</td>\n",
              "      <td>2014.000000</td>\n",
              "      <td>29483.000000</td>\n",
              "      <td>170000.000000</td>\n",
              "    </tr>\n",
              "  </tbody>\n",
              "</table>\n",
              "</div>\n",
              "      <button class=\"colab-df-convert\" onclick=\"convertToInteractive('df-4551042f-cd24-4092-b034-4824af44c222')\"\n",
              "              title=\"Convert this dataframe to an interactive table.\"\n",
              "              style=\"display:none;\">\n",
              "        \n",
              "  <svg xmlns=\"http://www.w3.org/2000/svg\" height=\"24px\"viewBox=\"0 0 24 24\"\n",
              "       width=\"24px\">\n",
              "    <path d=\"M0 0h24v24H0V0z\" fill=\"none\"/>\n",
              "    <path d=\"M18.56 5.44l.94 2.06.94-2.06 2.06-.94-2.06-.94-.94-2.06-.94 2.06-2.06.94zm-11 1L8.5 8.5l.94-2.06 2.06-.94-2.06-.94L8.5 2.5l-.94 2.06-2.06.94zm10 10l.94 2.06.94-2.06 2.06-.94-2.06-.94-.94-2.06-.94 2.06-2.06.94z\"/><path d=\"M17.41 7.96l-1.37-1.37c-.4-.4-.92-.59-1.43-.59-.52 0-1.04.2-1.43.59L10.3 9.45l-7.72 7.72c-.78.78-.78 2.05 0 2.83L4 21.41c.39.39.9.59 1.41.59.51 0 1.02-.2 1.41-.59l7.78-7.78 2.81-2.81c.8-.78.8-2.07 0-2.86zM5.41 20L4 18.59l7.72-7.72 1.47 1.35L5.41 20z\"/>\n",
              "  </svg>\n",
              "      </button>\n",
              "      \n",
              "  <style>\n",
              "    .colab-df-container {\n",
              "      display:flex;\n",
              "      flex-wrap:wrap;\n",
              "      gap: 12px;\n",
              "    }\n",
              "\n",
              "    .colab-df-convert {\n",
              "      background-color: #E8F0FE;\n",
              "      border: none;\n",
              "      border-radius: 50%;\n",
              "      cursor: pointer;\n",
              "      display: none;\n",
              "      fill: #1967D2;\n",
              "      height: 32px;\n",
              "      padding: 0 0 0 0;\n",
              "      width: 32px;\n",
              "    }\n",
              "\n",
              "    .colab-df-convert:hover {\n",
              "      background-color: #E2EBFA;\n",
              "      box-shadow: 0px 1px 2px rgba(60, 64, 67, 0.3), 0px 1px 3px 1px rgba(60, 64, 67, 0.15);\n",
              "      fill: #174EA6;\n",
              "    }\n",
              "\n",
              "    [theme=dark] .colab-df-convert {\n",
              "      background-color: #3B4455;\n",
              "      fill: #D2E3FC;\n",
              "    }\n",
              "\n",
              "    [theme=dark] .colab-df-convert:hover {\n",
              "      background-color: #434B5C;\n",
              "      box-shadow: 0px 1px 3px 1px rgba(0, 0, 0, 0.15);\n",
              "      filter: drop-shadow(0px 1px 2px rgba(0, 0, 0, 0.3));\n",
              "      fill: #FFFFFF;\n",
              "    }\n",
              "  </style>\n",
              "\n",
              "      <script>\n",
              "        const buttonEl =\n",
              "          document.querySelector('#df-4551042f-cd24-4092-b034-4824af44c222 button.colab-df-convert');\n",
              "        buttonEl.style.display =\n",
              "          google.colab.kernel.accessAllowed ? 'block' : 'none';\n",
              "\n",
              "        async function convertToInteractive(key) {\n",
              "          const element = document.querySelector('#df-4551042f-cd24-4092-b034-4824af44c222');\n",
              "          const dataTable =\n",
              "            await google.colab.kernel.invokeFunction('convertToInteractive',\n",
              "                                                     [key], {});\n",
              "          if (!dataTable) return;\n",
              "\n",
              "          const docLinkHtml = 'Like what you see? Visit the ' +\n",
              "            '<a target=\"_blank\" href=https://colab.research.google.com/notebooks/data_table.ipynb>data table notebook</a>'\n",
              "            + ' to learn more about interactive tables.';\n",
              "          element.innerHTML = '';\n",
              "          dataTable['output_type'] = 'display_data';\n",
              "          await google.colab.output.renderOutput(dataTable, element);\n",
              "          const docLink = document.createElement('div');\n",
              "          docLink.innerHTML = docLinkHtml;\n",
              "          element.appendChild(docLink);\n",
              "        }\n",
              "      </script>\n",
              "    </div>\n",
              "  </div>\n",
              "  "
            ]
          },
          "metadata": {},
          "execution_count": 77
        }
      ],
      "source": [
        "AdventureWorksData = pd.read_csv('/content/AdventureWorksDatabase - Sheet1-5.csv')\n",
        "AdventureWorksData.head()\n",
        "AdventureWorksData.describe()"
      ]
    },
    {
      "cell_type": "code",
      "execution_count": 78,
      "metadata": {
        "colab": {
          "base_uri": "https://localhost:8080/"
        },
        "id": "iS1yM2pdR34L",
        "outputId": "f8a5e006-cef8-4c62-f646-be5f2c7a14fe"
      },
      "outputs": [
        {
          "output_type": "execute_result",
          "data": {
            "text/plain": [
              "ProductName                       object\n",
              "CustomerKey                      float64\n",
              "OrderDate                         object\n",
              "SalesOrderLineNumber             float64\n",
              "OrderQuantity                    float64\n",
              "ProductKey                       float64\n",
              "SalesOrderNumber                  object\n",
              "SalesTerritoryKey                float64\n",
              "SalesTerritoryGroup               object\n",
              "SalesAmount                      float64\n",
              "EnglishProductCategoryName        object\n",
              "EnglishProductName                object\n",
              "ProductKey.1                     float64\n",
              "ProductSubcategoryKey            float64\n",
              "ProductAlternateKey               object\n",
              "EnglishProductSubcategoryName     object\n",
              "SalesTerritoryRegion              object\n",
              "SalesTerritoryCountry             object\n",
              "SalesTerritoryKey.1              float64\n",
              "CalendarYear                     float64\n",
              "DateKey                          float64\n",
              "DayNumberOfMonth                 float64\n",
              "DayNumberOfYear                  float64\n",
              "DayNumberOfWeek                  float64\n",
              "FiscalYear                       float64\n",
              "FullDateAlternateKey              object\n",
              "BirthDate                         object\n",
              "CustomerKey.1                    float64\n",
              "Gender                            object\n",
              "FirstName                         object\n",
              "LastName                          object\n",
              "YearlyIncome                     float64\n",
              "dtype: object"
            ]
          },
          "metadata": {},
          "execution_count": 78
        }
      ],
      "source": [
        "AdventureWorksData.isnull().sum()\n",
        "AdventureWorksData.columns\n",
        "AdventureWorksData.dtypes"
      ]
    },
    {
      "cell_type": "code",
      "execution_count": 75,
      "metadata": {
        "colab": {
          "base_uri": "https://localhost:8080/",
          "height": 348
        },
        "id": "8U4uPDldR34N",
        "outputId": "37c71a6e-39ad-40cc-d6f0-f947f8a1d489"
      },
      "outputs": [
        {
          "output_type": "execute_result",
          "data": {
            "text/plain": [
              "          ProductName  CustomerKey  OrderDate  SalesOrderLineNumber  \\\n",
              "14            Decal 2      27606.0 2011-01-01                   1.0   \n",
              "15          Down Tube      13513.0 2011-01-01                   1.0   \n",
              "16  Mountain End Caps      27601.0 2011-01-02                   1.0   \n",
              "17      Road End Caps      13591.0 2011-01-02                   1.0   \n",
              "18   Touring End Caps      16483.0 2011-01-02                   1.0   \n",
              "\n",
              "    OrderQuantity  ProductKey SalesOrderNumber  SalesTerritoryKey  \\\n",
              "14            1.0       314.0          SO43711                1.0   \n",
              "15            1.0       311.0          SO43712                8.0   \n",
              "16            1.0       310.0          SO43713                4.0   \n",
              "17            1.0       311.0          SO43714               10.0   \n",
              "18            1.0       314.0          SO43715                9.0   \n",
              "\n",
              "   SalesTerritoryGroup  SalesAmount  ... DayNumberOfYear DayNumberOfWeek  \\\n",
              "14                 NaN      3578.27  ...            15.0             7.0   \n",
              "15                 NaN      3578.27  ...            16.0             1.0   \n",
              "16                 NaN      3578.27  ...            17.0             2.0   \n",
              "17                 NaN      3578.27  ...            18.0             3.0   \n",
              "18                 NaN      3578.27  ...            19.0             4.0   \n",
              "\n",
              "    FiscalYear  FullDateAlternateKey BirthDate CustomerKey.1 Gender FirstName  \\\n",
              "14      2005.0               1/15/05   11/6/73       11014.0      F    Sydney   \n",
              "15      2005.0               1/16/05   8/26/84       11015.0      F     Chloe   \n",
              "16      2005.0               1/17/05  10/25/84       11016.0      M     Wyatt   \n",
              "17      2005.0               1/18/05  12/24/49       11017.0      F   Shannon   \n",
              "18      2005.0               1/19/05   10/6/55       11018.0      M  Clarence   \n",
              "\n",
              "    LastName  YearlyIncome  \n",
              "14   Bennett      100000.0  \n",
              "15     Young       30000.0  \n",
              "16      Hill       30000.0  \n",
              "17      Wang       20000.0  \n",
              "18       Rai       30000.0  \n",
              "\n",
              "[5 rows x 32 columns]"
            ],
            "text/html": [
              "\n",
              "  <div id=\"df-a97f0852-9b89-48e7-a7a3-8d8457c67d73\">\n",
              "    <div class=\"colab-df-container\">\n",
              "      <div>\n",
              "<style scoped>\n",
              "    .dataframe tbody tr th:only-of-type {\n",
              "        vertical-align: middle;\n",
              "    }\n",
              "\n",
              "    .dataframe tbody tr th {\n",
              "        vertical-align: top;\n",
              "    }\n",
              "\n",
              "    .dataframe thead th {\n",
              "        text-align: right;\n",
              "    }\n",
              "</style>\n",
              "<table border=\"1\" class=\"dataframe\">\n",
              "  <thead>\n",
              "    <tr style=\"text-align: right;\">\n",
              "      <th></th>\n",
              "      <th>ProductName</th>\n",
              "      <th>CustomerKey</th>\n",
              "      <th>OrderDate</th>\n",
              "      <th>SalesOrderLineNumber</th>\n",
              "      <th>OrderQuantity</th>\n",
              "      <th>ProductKey</th>\n",
              "      <th>SalesOrderNumber</th>\n",
              "      <th>SalesTerritoryKey</th>\n",
              "      <th>SalesTerritoryGroup</th>\n",
              "      <th>SalesAmount</th>\n",
              "      <th>...</th>\n",
              "      <th>DayNumberOfYear</th>\n",
              "      <th>DayNumberOfWeek</th>\n",
              "      <th>FiscalYear</th>\n",
              "      <th>FullDateAlternateKey</th>\n",
              "      <th>BirthDate</th>\n",
              "      <th>CustomerKey.1</th>\n",
              "      <th>Gender</th>\n",
              "      <th>FirstName</th>\n",
              "      <th>LastName</th>\n",
              "      <th>YearlyIncome</th>\n",
              "    </tr>\n",
              "  </thead>\n",
              "  <tbody>\n",
              "    <tr>\n",
              "      <th>14</th>\n",
              "      <td>Decal 2</td>\n",
              "      <td>27606.0</td>\n",
              "      <td>2011-01-01</td>\n",
              "      <td>1.0</td>\n",
              "      <td>1.0</td>\n",
              "      <td>314.0</td>\n",
              "      <td>SO43711</td>\n",
              "      <td>1.0</td>\n",
              "      <td>NaN</td>\n",
              "      <td>3578.27</td>\n",
              "      <td>...</td>\n",
              "      <td>15.0</td>\n",
              "      <td>7.0</td>\n",
              "      <td>2005.0</td>\n",
              "      <td>1/15/05</td>\n",
              "      <td>11/6/73</td>\n",
              "      <td>11014.0</td>\n",
              "      <td>F</td>\n",
              "      <td>Sydney</td>\n",
              "      <td>Bennett</td>\n",
              "      <td>100000.0</td>\n",
              "    </tr>\n",
              "    <tr>\n",
              "      <th>15</th>\n",
              "      <td>Down Tube</td>\n",
              "      <td>13513.0</td>\n",
              "      <td>2011-01-01</td>\n",
              "      <td>1.0</td>\n",
              "      <td>1.0</td>\n",
              "      <td>311.0</td>\n",
              "      <td>SO43712</td>\n",
              "      <td>8.0</td>\n",
              "      <td>NaN</td>\n",
              "      <td>3578.27</td>\n",
              "      <td>...</td>\n",
              "      <td>16.0</td>\n",
              "      <td>1.0</td>\n",
              "      <td>2005.0</td>\n",
              "      <td>1/16/05</td>\n",
              "      <td>8/26/84</td>\n",
              "      <td>11015.0</td>\n",
              "      <td>F</td>\n",
              "      <td>Chloe</td>\n",
              "      <td>Young</td>\n",
              "      <td>30000.0</td>\n",
              "    </tr>\n",
              "    <tr>\n",
              "      <th>16</th>\n",
              "      <td>Mountain End Caps</td>\n",
              "      <td>27601.0</td>\n",
              "      <td>2011-01-02</td>\n",
              "      <td>1.0</td>\n",
              "      <td>1.0</td>\n",
              "      <td>310.0</td>\n",
              "      <td>SO43713</td>\n",
              "      <td>4.0</td>\n",
              "      <td>NaN</td>\n",
              "      <td>3578.27</td>\n",
              "      <td>...</td>\n",
              "      <td>17.0</td>\n",
              "      <td>2.0</td>\n",
              "      <td>2005.0</td>\n",
              "      <td>1/17/05</td>\n",
              "      <td>10/25/84</td>\n",
              "      <td>11016.0</td>\n",
              "      <td>M</td>\n",
              "      <td>Wyatt</td>\n",
              "      <td>Hill</td>\n",
              "      <td>30000.0</td>\n",
              "    </tr>\n",
              "    <tr>\n",
              "      <th>17</th>\n",
              "      <td>Road End Caps</td>\n",
              "      <td>13591.0</td>\n",
              "      <td>2011-01-02</td>\n",
              "      <td>1.0</td>\n",
              "      <td>1.0</td>\n",
              "      <td>311.0</td>\n",
              "      <td>SO43714</td>\n",
              "      <td>10.0</td>\n",
              "      <td>NaN</td>\n",
              "      <td>3578.27</td>\n",
              "      <td>...</td>\n",
              "      <td>18.0</td>\n",
              "      <td>3.0</td>\n",
              "      <td>2005.0</td>\n",
              "      <td>1/18/05</td>\n",
              "      <td>12/24/49</td>\n",
              "      <td>11017.0</td>\n",
              "      <td>F</td>\n",
              "      <td>Shannon</td>\n",
              "      <td>Wang</td>\n",
              "      <td>20000.0</td>\n",
              "    </tr>\n",
              "    <tr>\n",
              "      <th>18</th>\n",
              "      <td>Touring End Caps</td>\n",
              "      <td>16483.0</td>\n",
              "      <td>2011-01-02</td>\n",
              "      <td>1.0</td>\n",
              "      <td>1.0</td>\n",
              "      <td>314.0</td>\n",
              "      <td>SO43715</td>\n",
              "      <td>9.0</td>\n",
              "      <td>NaN</td>\n",
              "      <td>3578.27</td>\n",
              "      <td>...</td>\n",
              "      <td>19.0</td>\n",
              "      <td>4.0</td>\n",
              "      <td>2005.0</td>\n",
              "      <td>1/19/05</td>\n",
              "      <td>10/6/55</td>\n",
              "      <td>11018.0</td>\n",
              "      <td>M</td>\n",
              "      <td>Clarence</td>\n",
              "      <td>Rai</td>\n",
              "      <td>30000.0</td>\n",
              "    </tr>\n",
              "  </tbody>\n",
              "</table>\n",
              "<p>5 rows × 32 columns</p>\n",
              "</div>\n",
              "      <button class=\"colab-df-convert\" onclick=\"convertToInteractive('df-a97f0852-9b89-48e7-a7a3-8d8457c67d73')\"\n",
              "              title=\"Convert this dataframe to an interactive table.\"\n",
              "              style=\"display:none;\">\n",
              "        \n",
              "  <svg xmlns=\"http://www.w3.org/2000/svg\" height=\"24px\"viewBox=\"0 0 24 24\"\n",
              "       width=\"24px\">\n",
              "    <path d=\"M0 0h24v24H0V0z\" fill=\"none\"/>\n",
              "    <path d=\"M18.56 5.44l.94 2.06.94-2.06 2.06-.94-2.06-.94-.94-2.06-.94 2.06-2.06.94zm-11 1L8.5 8.5l.94-2.06 2.06-.94-2.06-.94L8.5 2.5l-.94 2.06-2.06.94zm10 10l.94 2.06.94-2.06 2.06-.94-2.06-.94-.94-2.06-.94 2.06-2.06.94z\"/><path d=\"M17.41 7.96l-1.37-1.37c-.4-.4-.92-.59-1.43-.59-.52 0-1.04.2-1.43.59L10.3 9.45l-7.72 7.72c-.78.78-.78 2.05 0 2.83L4 21.41c.39.39.9.59 1.41.59.51 0 1.02-.2 1.41-.59l7.78-7.78 2.81-2.81c.8-.78.8-2.07 0-2.86zM5.41 20L4 18.59l7.72-7.72 1.47 1.35L5.41 20z\"/>\n",
              "  </svg>\n",
              "      </button>\n",
              "      \n",
              "  <style>\n",
              "    .colab-df-container {\n",
              "      display:flex;\n",
              "      flex-wrap:wrap;\n",
              "      gap: 12px;\n",
              "    }\n",
              "\n",
              "    .colab-df-convert {\n",
              "      background-color: #E8F0FE;\n",
              "      border: none;\n",
              "      border-radius: 50%;\n",
              "      cursor: pointer;\n",
              "      display: none;\n",
              "      fill: #1967D2;\n",
              "      height: 32px;\n",
              "      padding: 0 0 0 0;\n",
              "      width: 32px;\n",
              "    }\n",
              "\n",
              "    .colab-df-convert:hover {\n",
              "      background-color: #E2EBFA;\n",
              "      box-shadow: 0px 1px 2px rgba(60, 64, 67, 0.3), 0px 1px 3px 1px rgba(60, 64, 67, 0.15);\n",
              "      fill: #174EA6;\n",
              "    }\n",
              "\n",
              "    [theme=dark] .colab-df-convert {\n",
              "      background-color: #3B4455;\n",
              "      fill: #D2E3FC;\n",
              "    }\n",
              "\n",
              "    [theme=dark] .colab-df-convert:hover {\n",
              "      background-color: #434B5C;\n",
              "      box-shadow: 0px 1px 3px 1px rgba(0, 0, 0, 0.15);\n",
              "      filter: drop-shadow(0px 1px 2px rgba(0, 0, 0, 0.3));\n",
              "      fill: #FFFFFF;\n",
              "    }\n",
              "  </style>\n",
              "\n",
              "      <script>\n",
              "        const buttonEl =\n",
              "          document.querySelector('#df-a97f0852-9b89-48e7-a7a3-8d8457c67d73 button.colab-df-convert');\n",
              "        buttonEl.style.display =\n",
              "          google.colab.kernel.accessAllowed ? 'block' : 'none';\n",
              "\n",
              "        async function convertToInteractive(key) {\n",
              "          const element = document.querySelector('#df-a97f0852-9b89-48e7-a7a3-8d8457c67d73');\n",
              "          const dataTable =\n",
              "            await google.colab.kernel.invokeFunction('convertToInteractive',\n",
              "                                                     [key], {});\n",
              "          if (!dataTable) return;\n",
              "\n",
              "          const docLinkHtml = 'Like what you see? Visit the ' +\n",
              "            '<a target=\"_blank\" href=https://colab.research.google.com/notebooks/data_table.ipynb>data table notebook</a>'\n",
              "            + ' to learn more about interactive tables.';\n",
              "          element.innerHTML = '';\n",
              "          dataTable['output_type'] = 'display_data';\n",
              "          await google.colab.output.renderOutput(dataTable, element);\n",
              "          const docLink = document.createElement('div');\n",
              "          docLink.innerHTML = docLinkHtml;\n",
              "          element.appendChild(docLink);\n",
              "        }\n",
              "      </script>\n",
              "    </div>\n",
              "  </div>\n",
              "  "
            ]
          },
          "metadata": {},
          "execution_count": 75
        }
      ],
      "source": [
        "reference_date = pd.to_datetime('2011-11-01')\n",
        "reference_df = AdventureWorksData.loc[(AdventureWorksData['OrderDate'] < '2011-11-01')]\n",
        "reference_df.head()"
      ]
    },
    {
      "cell_type": "code",
      "execution_count": 80,
      "metadata": {
        "colab": {
          "base_uri": "https://localhost:8080/"
        },
        "id": "eGlDY1qZR34O",
        "outputId": "960af3fb-9ca5-4273-f237-224b9d81bc50"
      },
      "outputs": [
        {
          "output_type": "execute_result",
          "data": {
            "text/plain": [
              "Index(['ProductName', 'CustomerKey', 'OrderDate', 'SalesOrderLineNumber',\n",
              "       'OrderQuantity', 'ProductKey', 'SalesOrderNumber', 'SalesTerritoryKey',\n",
              "       'SalesTerritoryGroup', 'SalesAmount', 'EnglishProductCategoryName',\n",
              "       'EnglishProductName', 'ProductKey.1', 'ProductSubcategoryKey',\n",
              "       'ProductAlternateKey', 'EnglishProductSubcategoryName',\n",
              "       'SalesTerritoryRegion', 'SalesTerritoryCountry', 'SalesTerritoryKey.1',\n",
              "       'CalendarYear', 'DateKey', 'DayNumberOfMonth', 'DayNumberOfYear',\n",
              "       'DayNumberOfWeek', 'FiscalYear', 'FullDateAlternateKey', 'BirthDate',\n",
              "       'CustomerKey.1', 'Gender', 'FirstName', 'LastName', 'YearlyIncome'],\n",
              "      dtype='object')"
            ]
          },
          "metadata": {},
          "execution_count": 80
        }
      ],
      "source": [
        "reference_df.columns"
      ]
    },
    {
      "cell_type": "code",
      "execution_count": 8,
      "metadata": {
        "colab": {
          "base_uri": "https://localhost:8080/",
          "height": 403
        },
        "id": "VppUO3tiR34P",
        "outputId": "cdf9fd49-2332-4932-9d0a-11a100e687ff"
      },
      "outputs": [
        {
          "output_type": "execute_result",
          "data": {
            "text/plain": [
              "<matplotlib.axes._subplots.AxesSubplot at 0x7fd69392a430>"
            ]
          },
          "metadata": {},
          "execution_count": 8
        },
        {
          "output_type": "display_data",
          "data": {
            "text/plain": [
              "<Figure size 1080x360 with 2 Axes>"
            ],
            "image/png": "[encoded data removed]"
          },
          "metadata": {
            "needs_background": "light"
          }
        }
      ],
      "source": [
        "product_amount = AdventureWorksData[['EnglishProductCategoryName','SalesAmount']]\n",
        "product_quantity = AdventureWorksData[['EnglishProductCategoryName','OrderQuantity']]\n",
        "\n",
        "fig, axarr = plt.subplots(1, 2,figsize = (15,5))\n",
        "product_amount.groupby(\"EnglishProductCategoryName\").sum().plot(kind=\"bar\",ax=axarr[0])\n",
        "product_quantity.groupby(\"EnglishProductCategoryName\").sum().plot(kind=\"bar\",ax=axarr[1])\n"
      ]
    },
    {
      "cell_type": "code",
      "source": [
        "import numpy as np"
      ],
      "metadata": {
        "id": "QW_UZJRWZrbj"
      },
      "execution_count": null,
      "outputs": []
    },
    {
      "cell_type": "code",
      "execution_count": 81,
      "metadata": {
        "colab": {
          "base_uri": "https://localhost:8080/",
          "height": 476
        },
        "id": "ae7i9NHUR34Q",
        "outputId": "c4c4ecac-3338-400a-b91a-f1e195475184"
      },
      "outputs": [
        {
          "output_type": "execute_result",
          "data": {
            "text/plain": [
              "<matplotlib.axes._subplots.AxesSubplot at 0x7fd68a7ad580>"
            ]
          },
          "metadata": {},
          "execution_count": 81
        },
        {
          "output_type": "display_data",
          "data": {
            "text/plain": [
              "<Figure size 1080x360 with 2 Axes>"
            ],
            "image/png": "[encoded data removed]"
          },
          "metadata": {
            "needs_background": "light"
          }
        }
      ],
      "source": [
        "regionterritory = AdventureWorksData.groupby([\"SalesTerritoryRegion\"]).sum()\n",
        "total_price = regionterritory[\"SalesAmount\"].groupby(level=0, group_keys=False)\n",
        "plotregion = total_price.nlargest(5)\n",
        "regioncustomer = AdventureWorksData.groupby([\"SalesTerritoryRegion\",'CustomerKey']).sum()\n",
        "total_price = regioncustomer[\"SalesAmount\"].groupby(level=0, group_keys=False)\n",
        "plotcustomer = total_price.nlargest(5)\n",
        "fig, axarr = plt.subplots(1, 2,figsize = (15,5))\n",
        "plotregion.plot(kind=\"bar\",ax=axarr[0])\n",
        "plotcustomer.plot(kind=\"bar\",ax=axarr[1])"
      ]
    },
    {
      "cell_type": "code",
      "source": [
        "territorygroup = AdventureWorksData.groupby([\"SalesTerritoryGroup\"]).sum()\n",
        "total_price = territorygroup[\"SalesAmount\"].groupby(level=0, group_keys=False)\n",
        "plotterritory = total_price.nlargest(5)\n",
        "territorycustomer = AdventureWorksData.groupby([\"SalesTerritoryGroup\",'CustomerKey']).sum()\n",
        "total_price = territorycustomer[\"SalesAmount\"].groupby(level=0, group_keys=False)\n",
        "plotcustomer = total_price.nlargest(5)\n",
        "fig, axarr = plt.subplots(1, 2,figsize = (15,5))\n",
        "plotterritory.plot(kind=\"bar\",ax=axarr[0])\n",
        "plotcustomer.plot(kind=\"bar\",ax=axarr[1])"
      ],
      "metadata": {
        "colab": {
          "base_uri": "https://localhost:8080/",
          "height": 468
        },
        "id": "Ght_3y5peLvs",
        "outputId": "64f80493-fbb7-47dc-ca80-bead6d5790ea"
      },
      "execution_count": 82,
      "outputs": [
        {
          "output_type": "execute_result",
          "data": {
            "text/plain": [
              "<matplotlib.axes._subplots.AxesSubplot at 0x7fd68a7196a0>"
            ]
          },
          "metadata": {},
          "execution_count": 82
        },
        {
          "output_type": "display_data",
          "data": {
            "text/plain": [
              "<Figure size 1080x360 with 2 Axes>"
            ],
            "image/png": "[encoded data removed]"
          },
          "metadata": {
            "needs_background": "light"
          }
        }
      ]
    },
    {
      "cell_type": "code",
      "source": [
        "countryterritory = AdventureWorksData.groupby([\"SalesTerritoryCountry\"]).sum()\n",
        "total_price = countryterritory[\"SalesAmount\"].groupby(level=0, group_keys=False)\n",
        "plotcountry = total_price.nlargest(5)\n",
        "countrycustomer = AdventureWorksData.groupby([\"SalesTerritoryCountry\",'CustomerKey']).sum()\n",
        "total_price = countrycustomer[\"SalesAmount\"].groupby(level=0, group_keys=False)\n",
        "plotcustomer = total_price.nlargest(5)\n",
        "fig, axarr = plt.subplots(1, 2,figsize = (15,5))\n",
        "plotcountry.plot(kind=\"bar\",ax=axarr[0])\n",
        "plotcustomer.plot(kind=\"bar\",ax=axarr[1])"
      ],
      "metadata": {
        "colab": {
          "base_uri": "https://localhost:8080/",
          "height": 476
        },
        "id": "dUh3nX_aeXh8",
        "outputId": "77d20770-d36e-4b75-f649-38875c2ecec9"
      },
      "execution_count": 83,
      "outputs": [
        {
          "output_type": "execute_result",
          "data": {
            "text/plain": [
              "<matplotlib.axes._subplots.AxesSubplot at 0x7fd68a5e7c40>"
            ]
          },
          "metadata": {},
          "execution_count": 83
        },
        {
          "output_type": "display_data",
          "data": {
            "text/plain": [
              "<Figure size 1080x360 with 2 Axes>"
            ],
            "image/png": "[encoded data removed]"
          },
          "metadata": {
            "needs_background": "light"
          }
        }
      ]
    },
    {
      "cell_type": "code",
      "execution_count": 14,
      "metadata": {
        "colab": {
          "base_uri": "https://localhost:8080/",
          "height": 351
        },
        "id": "uM4480cGR34Q",
        "outputId": "75740f33-859b-4fc9-b5b1-118359b92182"
      },
      "outputs": [
        {
          "output_type": "execute_result",
          "data": {
            "text/plain": [
              "<matplotlib.axes._subplots.AxesSubplot at 0x7fd692ebd850>"
            ]
          },
          "metadata": {},
          "execution_count": 14
        },
        {
          "output_type": "display_data",
          "data": {
            "text/plain": [
              "<Figure size 1080x360 with 2 Axes>"
            ],
            "image/png": "[encoded data removed]"
          },
          "metadata": {
            "needs_background": "light"
          }
        }
      ],
      "source": [
        "fig, axarr = plt.subplots(1, 2,figsize = (15,5))\n",
        "customercountry = reference_df.groupby('SalesTerritoryCountry')['CustomerKey'].nunique().sort_values(ascending=False).reset_index().head(11)\n",
        "sns.barplot(data=customercountry,x='SalesTerritoryCountry',y='CustomerKey',palette='Blues',ax=axarr[0])\n",
        "customerregion = reference_df.groupby('SalesTerritoryRegion')['CustomerKey'].nunique().sort_values(ascending=False).reset_index().head(11)\n",
        "sns.barplot(data=customerregion,x='SalesTerritoryRegion',y='CustomerKey',palette='Blues',ax=axarr[1])\n"
      ]
    },
    {
      "cell_type": "code",
      "source": [
        "subcategory = AdventureWorksData.groupby([\"EnglishProductSubcategoryName\"]).sum()\n",
        "total_price = subcategory[\"SalesAmount\"].groupby(level=0, group_keys=False)\n",
        "plotsub = total_price.nlargest(5)\n",
        "customersub = AdventureWorksData.groupby([\"EnglishProductSubcategoryName\",'CustomerKey']).sum()\n",
        "total_price = customersub[\"SalesAmount\"].groupby(level=0, group_keys=False)\n",
        "plotcustomer = total_price.nlargest(5)\n",
        "fig, axarr = plt.subplots(1, 2,figsize = (15,5))\n",
        "plotsub.plot(kind=\"bar\",ax=axarr[0])\n",
        "plotcustomer.plot(kind=\"bar\",ax=axarr[1])"
      ],
      "metadata": {
        "colab": {
          "base_uri": "https://localhost:8080/",
          "height": 487
        },
        "id": "UbWd0XdMefG-",
        "outputId": "eaa01044-d3a1-45c5-a58e-54afa9c5ddbd"
      },
      "execution_count": 85,
      "outputs": [
        {
          "output_type": "execute_result",
          "data": {
            "text/plain": [
              "<matplotlib.axes._subplots.AxesSubplot at 0x7fd68a540640>"
            ]
          },
          "metadata": {},
          "execution_count": 85
        },
        {
          "output_type": "display_data",
          "data": {
            "text/plain": [
              "<Figure size 1080x360 with 2 Axes>"
            ],
            "image/png": "[encoded data removed]"
          },
          "metadata": {
            "needs_background": "light"
          }
        }
      ]
    },
    {
      "cell_type": "code",
      "source": [
        "category = AdventureWorksData.groupby([\"EnglishProductCategoryName\"]).sum()\n",
        "total_price = category[\"SalesAmount\"].groupby(level=0, group_keys=False)\n",
        "plotcategory = total_price.nlargest(5)\n",
        "categorycustomer = AdventureWorksData.groupby([\"EnglishProductCategoryName\",'CustomerKey']).sum()\n",
        "total_price = categorycustomer[\"SalesAmount\"].groupby(level=0, group_keys=False)\n",
        "plotcustomer = total_price.nlargest(5)\n",
        "fig, axarr = plt.subplots(1, 2,figsize = (15,5))\n",
        "plotcategory.plot(kind=\"bar\",ax=axarr[0])\n",
        "plotcustomer.plot(kind=\"bar\",ax=axarr[1])"
      ],
      "metadata": {
        "colab": {
          "base_uri": "https://localhost:8080/",
          "height": 458
        },
        "id": "2v3Up78de1lA",
        "outputId": "cb133712-8deb-4781-a9c3-1313da320e7b"
      },
      "execution_count": 87,
      "outputs": [
        {
          "output_type": "execute_result",
          "data": {
            "text/plain": [
              "<matplotlib.axes._subplots.AxesSubplot at 0x7fd68784b0d0>"
            ]
          },
          "metadata": {},
          "execution_count": 87
        },
        {
          "output_type": "display_data",
          "data": {
            "text/plain": [
              "<Figure size 1080x360 with 2 Axes>"
            ],
            "image/png": "[encoded data removed]"
          },
          "metadata": {
            "needs_background": "light"
          }
        }
      ]
    },
    {
      "cell_type": "code",
      "source": [
        "AdventureWorksData.drop(AdventureWorksData[AdventureWorksData['OrderDate'] == '##########'].index, inplace=True)"
      ],
      "metadata": {
        "id": "Ko9EXOXYWCYo"
      },
      "execution_count": 20,
      "outputs": []
    },
    {
      "cell_type": "code",
      "source": [
        "AdventureWorksData['OrderDate'] = pd.to_datetime(AdventureWorksData['OrderDate'])"
      ],
      "metadata": {
        "id": "kEiRH-2mWHSc"
      },
      "execution_count": 21,
      "outputs": []
    },
    {
      "cell_type": "code",
      "execution_count": 33,
      "metadata": {
        "colab": {
          "base_uri": "https://localhost:8080/",
          "height": 204
        },
        "id": "x-7OxtsDR34R",
        "outputId": "c98b054e-e008-4703-8e89-372c24e3c806"
      },
      "outputs": [
        {
          "output_type": "execute_result",
          "data": {
            "text/plain": [
              "   CustomerKey  Recency\n",
              "0      11000.0     -549\n",
              "1      11002.0      298\n",
              "2      11003.0     -431\n",
              "3      11004.0     -547\n",
              "4      11005.0     -548"
            ],
            "text/html": [
              "\n",
              "  <div id=\"df-d66ec0e7-de11-4e7a-83fe-405f6111f753\">\n",
              "    <div class=\"colab-df-container\">\n",
              "      <div>\n",
              "<style scoped>\n",
              "    .dataframe tbody tr th:only-of-type {\n",
              "        vertical-align: middle;\n",
              "    }\n",
              "\n",
              "    .dataframe tbody tr th {\n",
              "        vertical-align: top;\n",
              "    }\n",
              "\n",
              "    .dataframe thead th {\n",
              "        text-align: right;\n",
              "    }\n",
              "</style>\n",
              "<table border=\"1\" class=\"dataframe\">\n",
              "  <thead>\n",
              "    <tr style=\"text-align: right;\">\n",
              "      <th></th>\n",
              "      <th>CustomerKey</th>\n",
              "      <th>Recency</th>\n",
              "    </tr>\n",
              "  </thead>\n",
              "  <tbody>\n",
              "    <tr>\n",
              "      <th>0</th>\n",
              "      <td>11000.0</td>\n",
              "      <td>-549</td>\n",
              "    </tr>\n",
              "    <tr>\n",
              "      <th>1</th>\n",
              "      <td>11002.0</td>\n",
              "      <td>298</td>\n",
              "    </tr>\n",
              "    <tr>\n",
              "      <th>2</th>\n",
              "      <td>11003.0</td>\n",
              "      <td>-431</td>\n",
              "    </tr>\n",
              "    <tr>\n",
              "      <th>3</th>\n",
              "      <td>11004.0</td>\n",
              "      <td>-547</td>\n",
              "    </tr>\n",
              "    <tr>\n",
              "      <th>4</th>\n",
              "      <td>11005.0</td>\n",
              "      <td>-548</td>\n",
              "    </tr>\n",
              "  </tbody>\n",
              "</table>\n",
              "</div>\n",
              "      <button class=\"colab-df-convert\" onclick=\"convertToInteractive('df-d66ec0e7-de11-4e7a-83fe-405f6111f753')\"\n",
              "              title=\"Convert this dataframe to an interactive table.\"\n",
              "              style=\"display:none;\">\n",
              "        \n",
              "  <svg xmlns=\"http://www.w3.org/2000/svg\" height=\"24px\"viewBox=\"0 0 24 24\"\n",
              "       width=\"24px\">\n",
              "    <path d=\"M0 0h24v24H0V0z\" fill=\"none\"/>\n",
              "    <path d=\"M18.56 5.44l.94 2.06.94-2.06 2.06-.94-2.06-.94-.94-2.06-.94 2.06-2.06.94zm-11 1L8.5 8.5l.94-2.06 2.06-.94-2.06-.94L8.5 2.5l-.94 2.06-2.06.94zm10 10l.94 2.06.94-2.06 2.06-.94-2.06-.94-.94-2.06-.94 2.06-2.06.94z\"/><path d=\"M17.41 7.96l-1.37-1.37c-.4-.4-.92-.59-1.43-.59-.52 0-1.04.2-1.43.59L10.3 9.45l-7.72 7.72c-.78.78-.78 2.05 0 2.83L4 21.41c.39.39.9.59 1.41.59.51 0 1.02-.2 1.41-.59l7.78-7.78 2.81-2.81c.8-.78.8-2.07 0-2.86zM5.41 20L4 18.59l7.72-7.72 1.47 1.35L5.41 20z\"/>\n",
              "  </svg>\n",
              "      </button>\n",
              "      \n",
              "  <style>\n",
              "    .colab-df-container {\n",
              "      display:flex;\n",
              "      flex-wrap:wrap;\n",
              "      gap: 12px;\n",
              "    }\n",
              "\n",
              "    .colab-df-convert {\n",
              "      background-color: #E8F0FE;\n",
              "      border: none;\n",
              "      border-radius: 50%;\n",
              "      cursor: pointer;\n",
              "      display: none;\n",
              "      fill: #1967D2;\n",
              "      height: 32px;\n",
              "      padding: 0 0 0 0;\n",
              "      width: 32px;\n",
              "    }\n",
              "\n",
              "    .colab-df-convert:hover {\n",
              "      background-color: #E2EBFA;\n",
              "      box-shadow: 0px 1px 2px rgba(60, 64, 67, 0.3), 0px 1px 3px 1px rgba(60, 64, 67, 0.15);\n",
              "      fill: #174EA6;\n",
              "    }\n",
              "\n",
              "    [theme=dark] .colab-df-convert {\n",
              "      background-color: #3B4455;\n",
              "      fill: #D2E3FC;\n",
              "    }\n",
              "\n",
              "    [theme=dark] .colab-df-convert:hover {\n",
              "      background-color: #434B5C;\n",
              "      box-shadow: 0px 1px 3px 1px rgba(0, 0, 0, 0.15);\n",
              "      filter: drop-shadow(0px 1px 2px rgba(0, 0, 0, 0.3));\n",
              "      fill: #FFFFFF;\n",
              "    }\n",
              "  </style>\n",
              "\n",
              "      <script>\n",
              "        const buttonEl =\n",
              "          document.querySelector('#df-d66ec0e7-de11-4e7a-83fe-405f6111f753 button.colab-df-convert');\n",
              "        buttonEl.style.display =\n",
              "          google.colab.kernel.accessAllowed ? 'block' : 'none';\n",
              "\n",
              "        async function convertToInteractive(key) {\n",
              "          const element = document.querySelector('#df-d66ec0e7-de11-4e7a-83fe-405f6111f753');\n",
              "          const dataTable =\n",
              "            await google.colab.kernel.invokeFunction('convertToInteractive',\n",
              "                                                     [key], {});\n",
              "          if (!dataTable) return;\n",
              "\n",
              "          const docLinkHtml = 'Like what you see? Visit the ' +\n",
              "            '<a target=\"_blank\" href=https://colab.research.google.com/notebooks/data_table.ipynb>data table notebook</a>'\n",
              "            + ' to learn more about interactive tables.';\n",
              "          element.innerHTML = '';\n",
              "          dataTable['output_type'] = 'display_data';\n",
              "          await google.colab.output.renderOutput(dataTable, element);\n",
              "          const docLink = document.createElement('div');\n",
              "          docLink.innerHTML = docLinkHtml;\n",
              "          element.appendChild(docLink);\n",
              "        }\n",
              "      </script>\n",
              "    </div>\n",
              "  </div>\n",
              "  "
            ]
          },
          "metadata": {},
          "execution_count": 33
        }
      ],
      "source": [
        "recency = reference_df\n",
        "recency = recency.groupby(by='CustomerKey',as_index=False)['OrderDate'].max()\n",
        "recency.columns = ['CustomerKey','max_date']\n",
        "recency['Recency'] = recency['max_date'].apply(lambda row: (reference_date - row).days)\n",
        "recency.drop('max_date',inplace=True,axis=1)\n",
        "recency[['CustomerKey','Recency']].head()"
      ]
    },
    {
      "cell_type": "code",
      "execution_count": 35,
      "metadata": {
        "colab": {
          "base_uri": "https://localhost:8080/",
          "height": 439
        },
        "id": "p3PCpdHqR34S",
        "outputId": "4c02b7c1-abf9-4474-a574-7b0cdacfd913"
      },
      "outputs": [
        {
          "output_type": "stream",
          "name": "stderr",
          "text": [
            "/usr/local/lib/python3.8/dist-packages/seaborn/distributions.py:2619: FutureWarning: `distplot` is a deprecated function and will be removed in a future version. Please adapt your code to use either `displot` (a figure-level function with similar flexibility) or `histplot` (an axes-level function for histograms).\n",
            "  warnings.warn(msg, FutureWarning)\n",
            "/usr/local/lib/python3.8/dist-packages/seaborn/distributions.py:2103: FutureWarning: The `axis` variable is no longer used and will be removed. Instead, assign variables directly to `x` or `y`.\n",
            "  warnings.warn(msg, FutureWarning)\n"
          ]
        },
        {
          "output_type": "execute_result",
          "data": {
            "text/plain": [
              "<matplotlib.axes._subplots.AxesSubplot at 0x7fd68f550cd0>"
            ]
          },
          "metadata": {},
          "execution_count": 35
        },
        {
          "output_type": "display_data",
          "data": {
            "text/plain": [
              "<Figure size 576x360 with 1 Axes>"
            ],
            "image/png": "[encoded data removed]"
          },
          "metadata": {
            "needs_background": "light"
          }
        }
      ],
      "source": [
        "plt.figure(figsize=(8,5))\n",
        "sns.distplot(recency.Recency,bins=8,kde=False,rug=True)"
      ]
    },
    {
      "cell_type": "code",
      "execution_count": 36,
      "metadata": {
        "colab": {
          "base_uri": "https://localhost:8080/"
        },
        "id": "UZ1iZSK0R34S",
        "outputId": "41b54978-6cb1-4330-8fe9-82a51d5929dc"
      },
      "outputs": [
        {
          "output_type": "execute_result",
          "data": {
            "text/plain": [
              "CustomerKey\n",
              "11000.0    5\n",
              "11002.0    1\n",
              "11003.0    4\n",
              "11004.0    2\n",
              "11005.0    1\n",
              "Name: SalesOrderLineNumber, dtype: int64"
            ]
          },
          "metadata": {},
          "execution_count": 36
        }
      ],
      "source": [
        "frequency = reference_df\n",
        "frequency = frequency.groupby(by='CustomerKey')['SalesOrderLineNumber'].nunique()\n",
        "frequency.columns = ['CustomerKey','Frequency']\n",
        "frequency.head()"
      ]
    },
    {
      "cell_type": "code",
      "execution_count": 38,
      "metadata": {
        "colab": {
          "base_uri": "https://localhost:8080/",
          "height": 439
        },
        "id": "WsC6GKTVR34T",
        "outputId": "8af965f8-053b-48fd-9573-24deb6d286d7"
      },
      "outputs": [
        {
          "output_type": "stream",
          "name": "stderr",
          "text": [
            "/usr/local/lib/python3.8/dist-packages/seaborn/distributions.py:2619: FutureWarning: `distplot` is a deprecated function and will be removed in a future version. Please adapt your code to use either `displot` (a figure-level function with similar flexibility) or `histplot` (an axes-level function for histograms).\n",
            "  warnings.warn(msg, FutureWarning)\n",
            "/usr/local/lib/python3.8/dist-packages/seaborn/distributions.py:2103: FutureWarning: The `axis` variable is no longer used and will be removed. Instead, assign variables directly to `x` or `y`.\n",
            "  warnings.warn(msg, FutureWarning)\n"
          ]
        },
        {
          "output_type": "execute_result",
          "data": {
            "text/plain": [
              "<matplotlib.axes._subplots.AxesSubplot at 0x7fd68efb99a0>"
            ]
          },
          "metadata": {},
          "execution_count": 38
        },
        {
          "output_type": "display_data",
          "data": {
            "text/plain": [
              "<Figure size 576x360 with 1 Axes>"
            ],
            "image/png": "[encoded data removed]"
          },
          "metadata": {
            "needs_background": "light"
          }
        }
      ],
      "source": [
        "plt.figure(figsize=(8,5))\n",
        "sns.distplot(frequency,bins=8,kde=False,rug=True)"
      ]
    },
    {
      "cell_type": "code",
      "execution_count": 39,
      "metadata": {
        "colab": {
          "base_uri": "https://localhost:8080/",
          "height": 204
        },
        "id": "YloDqgUGR34U",
        "outputId": "2b55d56a-3a0a-434d-e0a0-77617b7f003e"
      },
      "outputs": [
        {
          "output_type": "execute_result",
          "data": {
            "text/plain": [
              "   CustomerKey  Monetary\n",
              "0      11000.0   2507.03\n",
              "1      11002.0   3399.99\n",
              "2      11003.0   2318.96\n",
              "3      11004.0   2419.06\n",
              "4      11005.0   2384.07"
            ],
            "text/html": [
              "\n",
              "  <div id=\"df-e7cdb756-af5a-46dd-8dfe-3c17bf327b8e\">\n",
              "    <div class=\"colab-df-container\">\n",
              "      <div>\n",
              "<style scoped>\n",
              "    .dataframe tbody tr th:only-of-type {\n",
              "        vertical-align: middle;\n",
              "    }\n",
              "\n",
              "    .dataframe tbody tr th {\n",
              "        vertical-align: top;\n",
              "    }\n",
              "\n",
              "    .dataframe thead th {\n",
              "        text-align: right;\n",
              "    }\n",
              "</style>\n",
              "<table border=\"1\" class=\"dataframe\">\n",
              "  <thead>\n",
              "    <tr style=\"text-align: right;\">\n",
              "      <th></th>\n",
              "      <th>CustomerKey</th>\n",
              "      <th>Monetary</th>\n",
              "    </tr>\n",
              "  </thead>\n",
              "  <tbody>\n",
              "    <tr>\n",
              "      <th>0</th>\n",
              "      <td>11000.0</td>\n",
              "      <td>2507.03</td>\n",
              "    </tr>\n",
              "    <tr>\n",
              "      <th>1</th>\n",
              "      <td>11002.0</td>\n",
              "      <td>3399.99</td>\n",
              "    </tr>\n",
              "    <tr>\n",
              "      <th>2</th>\n",
              "      <td>11003.0</td>\n",
              "      <td>2318.96</td>\n",
              "    </tr>\n",
              "    <tr>\n",
              "      <th>3</th>\n",
              "      <td>11004.0</td>\n",
              "      <td>2419.06</td>\n",
              "    </tr>\n",
              "    <tr>\n",
              "      <th>4</th>\n",
              "      <td>11005.0</td>\n",
              "      <td>2384.07</td>\n",
              "    </tr>\n",
              "  </tbody>\n",
              "</table>\n",
              "</div>\n",
              "      <button class=\"colab-df-convert\" onclick=\"convertToInteractive('df-e7cdb756-af5a-46dd-8dfe-3c17bf327b8e')\"\n",
              "              title=\"Convert this dataframe to an interactive table.\"\n",
              "              style=\"display:none;\">\n",
              "        \n",
              "  <svg xmlns=\"http://www.w3.org/2000/svg\" height=\"24px\"viewBox=\"0 0 24 24\"\n",
              "       width=\"24px\">\n",
              "    <path d=\"M0 0h24v24H0V0z\" fill=\"none\"/>\n",
              "    <path d=\"M18.56 5.44l.94 2.06.94-2.06 2.06-.94-2.06-.94-.94-2.06-.94 2.06-2.06.94zm-11 1L8.5 8.5l.94-2.06 2.06-.94-2.06-.94L8.5 2.5l-.94 2.06-2.06.94zm10 10l.94 2.06.94-2.06 2.06-.94-2.06-.94-.94-2.06-.94 2.06-2.06.94z\"/><path d=\"M17.41 7.96l-1.37-1.37c-.4-.4-.92-.59-1.43-.59-.52 0-1.04.2-1.43.59L10.3 9.45l-7.72 7.72c-.78.78-.78 2.05 0 2.83L4 21.41c.39.39.9.59 1.41.59.51 0 1.02-.2 1.41-.59l7.78-7.78 2.81-2.81c.8-.78.8-2.07 0-2.86zM5.41 20L4 18.59l7.72-7.72 1.47 1.35L5.41 20z\"/>\n",
              "  </svg>\n",
              "      </button>\n",
              "      \n",
              "  <style>\n",
              "    .colab-df-container {\n",
              "      display:flex;\n",
              "      flex-wrap:wrap;\n",
              "      gap: 12px;\n",
              "    }\n",
              "\n",
              "    .colab-df-convert {\n",
              "      background-color: #E8F0FE;\n",
              "      border: none;\n",
              "      border-radius: 50%;\n",
              "      cursor: pointer;\n",
              "      display: none;\n",
              "      fill: #1967D2;\n",
              "      height: 32px;\n",
              "      padding: 0 0 0 0;\n",
              "      width: 32px;\n",
              "    }\n",
              "\n",
              "    .colab-df-convert:hover {\n",
              "      background-color: #E2EBFA;\n",
              "      box-shadow: 0px 1px 2px rgba(60, 64, 67, 0.3), 0px 1px 3px 1px rgba(60, 64, 67, 0.15);\n",
              "      fill: #174EA6;\n",
              "    }\n",
              "\n",
              "    [theme=dark] .colab-df-convert {\n",
              "      background-color: #3B4455;\n",
              "      fill: #D2E3FC;\n",
              "    }\n",
              "\n",
              "    [theme=dark] .colab-df-convert:hover {\n",
              "      background-color: #434B5C;\n",
              "      box-shadow: 0px 1px 3px 1px rgba(0, 0, 0, 0.15);\n",
              "      filter: drop-shadow(0px 1px 2px rgba(0, 0, 0, 0.3));\n",
              "      fill: #FFFFFF;\n",
              "    }\n",
              "  </style>\n",
              "\n",
              "      <script>\n",
              "        const buttonEl =\n",
              "          document.querySelector('#df-e7cdb756-af5a-46dd-8dfe-3c17bf327b8e button.colab-df-convert');\n",
              "        buttonEl.style.display =\n",
              "          google.colab.kernel.accessAllowed ? 'block' : 'none';\n",
              "\n",
              "        async function convertToInteractive(key) {\n",
              "          const element = document.querySelector('#df-e7cdb756-af5a-46dd-8dfe-3c17bf327b8e');\n",
              "          const dataTable =\n",
              "            await google.colab.kernel.invokeFunction('convertToInteractive',\n",
              "                                                     [key], {});\n",
              "          if (!dataTable) return;\n",
              "\n",
              "          const docLinkHtml = 'Like what you see? Visit the ' +\n",
              "            '<a target=\"_blank\" href=https://colab.research.google.com/notebooks/data_table.ipynb>data table notebook</a>'\n",
              "            + ' to learn more about interactive tables.';\n",
              "          element.innerHTML = '';\n",
              "          dataTable['output_type'] = 'display_data';\n",
              "          await google.colab.output.renderOutput(dataTable, element);\n",
              "          const docLink = document.createElement('div');\n",
              "          docLink.innerHTML = docLinkHtml;\n",
              "          element.appendChild(docLink);\n",
              "        }\n",
              "      </script>\n",
              "    </div>\n",
              "  </div>\n",
              "  "
            ]
          },
          "metadata": {},
          "execution_count": 39
        }
      ],
      "source": [
        "monetary = reference_df\n",
        "monetary = monetary.groupby(by='CustomerKey',as_index=False)['SalesAmount'].sum()\n",
        "monetary.columns = ['CustomerKey','Monetary']\n",
        "monetary.head()"
      ]
    },
    {
      "cell_type": "code",
      "execution_count": 40,
      "metadata": {
        "colab": {
          "base_uri": "https://localhost:8080/",
          "height": 439
        },
        "id": "vTvim2hcR34U",
        "outputId": "51f7f720-a54f-461e-c166-368e82c76142"
      },
      "outputs": [
        {
          "output_type": "stream",
          "name": "stderr",
          "text": [
            "/usr/local/lib/python3.8/dist-packages/seaborn/distributions.py:2619: FutureWarning: `distplot` is a deprecated function and will be removed in a future version. Please adapt your code to use either `displot` (a figure-level function with similar flexibility) or `histplot` (an axes-level function for histograms).\n",
            "  warnings.warn(msg, FutureWarning)\n",
            "/usr/local/lib/python3.8/dist-packages/seaborn/distributions.py:2103: FutureWarning: The `axis` variable is no longer used and will be removed. Instead, assign variables directly to `x` or `y`.\n",
            "  warnings.warn(msg, FutureWarning)\n"
          ]
        },
        {
          "output_type": "execute_result",
          "data": {
            "text/plain": [
              "<matplotlib.axes._subplots.AxesSubplot at 0x7fd68ecfdd30>"
            ]
          },
          "metadata": {},
          "execution_count": 40
        },
        {
          "output_type": "display_data",
          "data": {
            "text/plain": [
              "<Figure size 576x360 with 1 Axes>"
            ],
            "image/png": "[encoded data removed]"
          },
          "metadata": {
            "needs_background": "light"
          }
        }
      ],
      "source": [
        "plt.figure(figsize=(8,5))\n",
        "sns.distplot(monetary.Monetary,kde=False,rug=True)"
      ]
    },
    {
      "cell_type": "code",
      "execution_count": 41,
      "metadata": {
        "colab": {
          "base_uri": "https://localhost:8080/"
        },
        "id": "DMhg6N79R34V",
        "outputId": "ad34f47d-554e-48fd-fd85-ef8e0e8f606e"
      },
      "outputs": [
        {
          "output_type": "execute_result",
          "data": {
            "text/plain": [
              "CustomerKey             5012\n",
              "Recency                 5012\n",
              "SalesOrderLineNumber    5012\n",
              "dtype: int64"
            ]
          },
          "metadata": {},
          "execution_count": 41
        }
      ],
      "source": [
        "rf = pd.merge(recency,frequency,on='CustomerKey')\n",
        "rf.head()\n",
        "rf.count()"
      ]
    },
    {
      "cell_type": "code",
      "execution_count": 42,
      "metadata": {
        "colab": {
          "base_uri": "https://localhost:8080/"
        },
        "id": "lP8nvyMiR34V",
        "outputId": "0b578a96-d3e0-4b0f-8ae5-dc311f5b3234"
      },
      "outputs": [
        {
          "output_type": "execute_result",
          "data": {
            "text/plain": [
              "CustomerKey             5012\n",
              "Recency                 5012\n",
              "SalesOrderLineNumber    5012\n",
              "Monetary                5012\n",
              "dtype: int64"
            ]
          },
          "metadata": {},
          "execution_count": 42
        }
      ],
      "source": [
        "rfm = rf.merge(monetary,on='CustomerKey')\n",
        "rfm.head()\n",
        "rfm.count()"
      ]
    },
    {
      "cell_type": "code",
      "execution_count": 43,
      "metadata": {
        "colab": {
          "base_uri": "https://localhost:8080/",
          "height": 204
        },
        "id": "UBytnVRfR34W",
        "outputId": "3818fc49-ef78-4ea7-add6-d49b31ccbd2e"
      },
      "outputs": [
        {
          "output_type": "execute_result",
          "data": {
            "text/plain": [
              "   CustomerKey  Recency  SalesOrderLineNumber  Monetary\n",
              "0      11000.0     -549                     5   2507.03\n",
              "1      11002.0      298                     1   3399.99\n",
              "2      11003.0     -431                     4   2318.96\n",
              "3      11004.0     -547                     2   2419.06\n",
              "4      11005.0     -548                     1   2384.07"
            ],
            "text/html": [
              "\n",
              "  <div id=\"df-a8169ff5-a114-4207-8ac8-2005c391dd33\">\n",
              "    <div class=\"colab-df-container\">\n",
              "      <div>\n",
              "<style scoped>\n",
              "    .dataframe tbody tr th:only-of-type {\n",
              "        vertical-align: middle;\n",
              "    }\n",
              "\n",
              "    .dataframe tbody tr th {\n",
              "        vertical-align: top;\n",
              "    }\n",
              "\n",
              "    .dataframe thead th {\n",
              "        text-align: right;\n",
              "    }\n",
              "</style>\n",
              "<table border=\"1\" class=\"dataframe\">\n",
              "  <thead>\n",
              "    <tr style=\"text-align: right;\">\n",
              "      <th></th>\n",
              "      <th>CustomerKey</th>\n",
              "      <th>Recency</th>\n",
              "      <th>SalesOrderLineNumber</th>\n",
              "      <th>Monetary</th>\n",
              "    </tr>\n",
              "  </thead>\n",
              "  <tbody>\n",
              "    <tr>\n",
              "      <th>0</th>\n",
              "      <td>11000.0</td>\n",
              "      <td>-549</td>\n",
              "      <td>5</td>\n",
              "      <td>2507.03</td>\n",
              "    </tr>\n",
              "    <tr>\n",
              "      <th>1</th>\n",
              "      <td>11002.0</td>\n",
              "      <td>298</td>\n",
              "      <td>1</td>\n",
              "      <td>3399.99</td>\n",
              "    </tr>\n",
              "    <tr>\n",
              "      <th>2</th>\n",
              "      <td>11003.0</td>\n",
              "      <td>-431</td>\n",
              "      <td>4</td>\n",
              "      <td>2318.96</td>\n",
              "    </tr>\n",
              "    <tr>\n",
              "      <th>3</th>\n",
              "      <td>11004.0</td>\n",
              "      <td>-547</td>\n",
              "      <td>2</td>\n",
              "      <td>2419.06</td>\n",
              "    </tr>\n",
              "    <tr>\n",
              "      <th>4</th>\n",
              "      <td>11005.0</td>\n",
              "      <td>-548</td>\n",
              "      <td>1</td>\n",
              "      <td>2384.07</td>\n",
              "    </tr>\n",
              "  </tbody>\n",
              "</table>\n",
              "</div>\n",
              "      <button class=\"colab-df-convert\" onclick=\"convertToInteractive('df-a8169ff5-a114-4207-8ac8-2005c391dd33')\"\n",
              "              title=\"Convert this dataframe to an interactive table.\"\n",
              "              style=\"display:none;\">\n",
              "        \n",
              "  <svg xmlns=\"http://www.w3.org/2000/svg\" height=\"24px\"viewBox=\"0 0 24 24\"\n",
              "       width=\"24px\">\n",
              "    <path d=\"M0 0h24v24H0V0z\" fill=\"none\"/>\n",
              "    <path d=\"M18.56 5.44l.94 2.06.94-2.06 2.06-.94-2.06-.94-.94-2.06-.94 2.06-2.06.94zm-11 1L8.5 8.5l.94-2.06 2.06-.94-2.06-.94L8.5 2.5l-.94 2.06-2.06.94zm10 10l.94 2.06.94-2.06 2.06-.94-2.06-.94-.94-2.06-.94 2.06-2.06.94z\"/><path d=\"M17.41 7.96l-1.37-1.37c-.4-.4-.92-.59-1.43-.59-.52 0-1.04.2-1.43.59L10.3 9.45l-7.72 7.72c-.78.78-.78 2.05 0 2.83L4 21.41c.39.39.9.59 1.41.59.51 0 1.02-.2 1.41-.59l7.78-7.78 2.81-2.81c.8-.78.8-2.07 0-2.86zM5.41 20L4 18.59l7.72-7.72 1.47 1.35L5.41 20z\"/>\n",
              "  </svg>\n",
              "      </button>\n",
              "      \n",
              "  <style>\n",
              "    .colab-df-container {\n",
              "      display:flex;\n",
              "      flex-wrap:wrap;\n",
              "      gap: 12px;\n",
              "    }\n",
              "\n",
              "    .colab-df-convert {\n",
              "      background-color: #E8F0FE;\n",
              "      border: none;\n",
              "      border-radius: 50%;\n",
              "      cursor: pointer;\n",
              "      display: none;\n",
              "      fill: #1967D2;\n",
              "      height: 32px;\n",
              "      padding: 0 0 0 0;\n",
              "      width: 32px;\n",
              "    }\n",
              "\n",
              "    .colab-df-convert:hover {\n",
              "      background-color: #E2EBFA;\n",
              "      box-shadow: 0px 1px 2px rgba(60, 64, 67, 0.3), 0px 1px 3px 1px rgba(60, 64, 67, 0.15);\n",
              "      fill: #174EA6;\n",
              "    }\n",
              "\n",
              "    [theme=dark] .colab-df-convert {\n",
              "      background-color: #3B4455;\n",
              "      fill: #D2E3FC;\n",
              "    }\n",
              "\n",
              "    [theme=dark] .colab-df-convert:hover {\n",
              "      background-color: #434B5C;\n",
              "      box-shadow: 0px 1px 3px 1px rgba(0, 0, 0, 0.15);\n",
              "      filter: drop-shadow(0px 1px 2px rgba(0, 0, 0, 0.3));\n",
              "      fill: #FFFFFF;\n",
              "    }\n",
              "  </style>\n",
              "\n",
              "      <script>\n",
              "        const buttonEl =\n",
              "          document.querySelector('#df-a8169ff5-a114-4207-8ac8-2005c391dd33 button.colab-df-convert');\n",
              "        buttonEl.style.display =\n",
              "          google.colab.kernel.accessAllowed ? 'block' : 'none';\n",
              "\n",
              "        async function convertToInteractive(key) {\n",
              "          const element = document.querySelector('#df-a8169ff5-a114-4207-8ac8-2005c391dd33');\n",
              "          const dataTable =\n",
              "            await google.colab.kernel.invokeFunction('convertToInteractive',\n",
              "                                                     [key], {});\n",
              "          if (!dataTable) return;\n",
              "\n",
              "          const docLinkHtml = 'Like what you see? Visit the ' +\n",
              "            '<a target=\"_blank\" href=https://colab.research.google.com/notebooks/data_table.ipynb>data table notebook</a>'\n",
              "            + ' to learn more about interactive tables.';\n",
              "          element.innerHTML = '';\n",
              "          dataTable['output_type'] = 'display_data';\n",
              "          await google.colab.output.renderOutput(dataTable, element);\n",
              "          const docLink = document.createElement('div');\n",
              "          docLink.innerHTML = docLinkHtml;\n",
              "          element.appendChild(docLink);\n",
              "        }\n",
              "      </script>\n",
              "    </div>\n",
              "  </div>\n",
              "  "
            ]
          },
          "metadata": {},
          "execution_count": 43
        }
      ],
      "source": [
        "rfm.head()"
      ]
    },
    {
      "cell_type": "code",
      "execution_count": 45,
      "metadata": {
        "colab": {
          "base_uri": "https://localhost:8080/",
          "height": 312
        },
        "id": "fxEQQZr5R34W",
        "outputId": "b4fdea70-8a0c-4d9e-bd8c-f64e571fb1b9"
      },
      "outputs": [
        {
          "output_type": "execute_result",
          "data": {
            "text/plain": [
              "Text(0, 0.5, 'Frequency')"
            ]
          },
          "metadata": {},
          "execution_count": 45
        },
        {
          "output_type": "display_data",
          "data": {
            "text/plain": [
              "<Figure size 432x288 with 1 Axes>"
            ],
            "image/png": "[encoded data removed]"
          },
          "metadata": {
            "needs_background": "light"
          }
        }
      ],
      "source": [
        "plt.scatter(rfm.groupby('CustomerKey')['Recency'].sum(), reference_df.groupby('CustomerKey')['OrderQuantity'].sum(),\n",
        "            color = 'blue', marker = '.', alpha = 0.3)\n",
        "\n",
        "plt.title('Scatter Plot for Recency and Frequency') \n",
        "plt.xlabel('Recency')\n",
        "plt.ylabel('Frequency')"
      ]
    },
    {
      "cell_type": "code",
      "execution_count": 51,
      "metadata": {
        "colab": {
          "base_uri": "https://localhost:8080/",
          "height": 312
        },
        "id": "YMtpb0-qR34W",
        "outputId": "892f88ff-c2e9-47f0-f06d-6cea2b66143f"
      },
      "outputs": [
        {
          "output_type": "execute_result",
          "data": {
            "text/plain": [
              "Text(0, 0.5, 'Frequency')"
            ]
          },
          "metadata": {},
          "execution_count": 51
        },
        {
          "output_type": "display_data",
          "data": {
            "text/plain": [
              "<Figure size 432x288 with 1 Axes>"
            ],
            "image/png": "[encoded data removed]"
          },
          "metadata": {
            "needs_background": "light"
          }
        }
      ],
      "source": [
        "Monetary = reference_df.groupby('CustomerKey')['SalesAmount'].sum()\n",
        "plt.scatter(rfm.groupby('CustomerKey')['Recency'].sum(), reference_df.groupby('CustomerKey')['OrderQuantity'].sum(),\n",
        "            marker = '.', alpha = 0.3,c=Monetary)\n",
        "\n",
        "plt.title('Scatter Plot for Recency and Frequency')\n",
        "plt.xlabel('Recency')\n",
        "plt.ylabel('Frequency')"
      ]
    },
    {
      "cell_type": "code",
      "execution_count": 52,
      "metadata": {
        "colab": {
          "base_uri": "https://localhost:8080/",
          "height": 312
        },
        "id": "ETiZZjsQR34X",
        "outputId": "65dc9e4c-0164-4d53-c751-47b4ae66d339"
      },
      "outputs": [
        {
          "output_type": "execute_result",
          "data": {
            "text/plain": [
              "Text(0, 0.5, 'Frequency')"
            ]
          },
          "metadata": {},
          "execution_count": 52
        },
        {
          "output_type": "display_data",
          "data": {
            "text/plain": [
              "<Figure size 432x288 with 1 Axes>"
            ],
            "image/png": "[encoded data removed]"
          },
          "metadata": {
            "needs_background": "light"
          }
        }
      ],
      "source": [
        "monetary_frequency = AdventureWorksData.groupby('CustomerKey')[['OrderQuantity', 'SalesAmount']].sum()\n",
        "\n",
        "plt.scatter(monetary_frequency['SalesAmount'], monetary_frequency['OrderQuantity'],\n",
        "            color = 'blue', marker = '.', alpha = 0.3)\n",
        "\n",
        "plt.title('Scatter Plot for Monetary and Frequency')\n",
        "plt.xlabel('Monetary')\n",
        "plt.ylabel('Frequency')"
      ]
    },
    {
      "cell_type": "code",
      "execution_count": 58,
      "metadata": {
        "id": "zxBETYD5R34Y"
      },
      "outputs": [],
      "source": [
        "def R_Score(x):\n",
        "    if x['Recency'] <=60:\n",
        "        recency = 3    \n",
        "    elif x['Recency'] >60 and x['Recency'] <=120:\n",
        "        recency = 2\n",
        "    else:\n",
        "        recency = 1\n",
        "    return recency\n",
        "\n",
        "rfm['R'] = rfm.apply(R_Score,axis=1)\n",
        "    "
      ]
    },
    {
      "cell_type": "code",
      "source": [
        "def F_Score(x):\n",
        "    if x['SalesOrderLineNumber'] <= 3:\n",
        "        recency = 3\n",
        "    elif x['SalesOrderLineNumber'] >3 and x['SalesOrderLineNumber'] <=6:\n",
        "        recency = 2\n",
        "    else:\n",
        "        recency = 1\n",
        "    return recency\n",
        "\n",
        "rfm['F'] = rfm.apply(F_Score,axis=1)"
      ],
      "metadata": {
        "id": "y8bDfXCAYKZS"
      },
      "execution_count": 57,
      "outputs": []
    },
    {
      "cell_type": "code",
      "execution_count": 59,
      "metadata": {
        "colab": {
          "base_uri": "https://localhost:8080/"
        },
        "id": "Nq3kjmiWR34Z",
        "outputId": "f2c1db54-d4c9-429b-8e3a-843791ddf2ea"
      },
      "outputs": [
        {
          "output_type": "execute_result",
          "data": {
            "text/plain": [
              "0    (2049.098, 8498.64]\n",
              "1    (2049.098, 8498.64]\n",
              "2    (2049.098, 8498.64]\n",
              "3    (2049.098, 8498.64]\n",
              "4    (2049.098, 8498.64]\n",
              "Name: Monetary, dtype: category\n",
              "Categories (3, interval[float64, right]): [(2.289, 71.97] < (71.97, 2049.098] <\n",
              "                                           (2049.098, 8498.64]]"
            ]
          },
          "metadata": {},
          "execution_count": 59
        }
      ],
      "source": [
        "pd.qcut(rfm['Monetary'],q=3).head()"
      ]
    },
    {
      "cell_type": "code",
      "execution_count": 60,
      "metadata": {
        "id": "yQMV6PiTR34Z"
      },
      "outputs": [],
      "source": [
        "monetaryscore = pd.qcut(rfm['Monetary'],q=3,labels=range(1,4))\n",
        "rfm = rfm.assign(M = monetaryscore.values)"
      ]
    },
    {
      "cell_type": "code",
      "execution_count": 61,
      "metadata": {
        "colab": {
          "base_uri": "https://localhost:8080/",
          "height": 204
        },
        "id": "lrdT_A2zR34Z",
        "outputId": "3850a68d-4c0b-4e87-a7b0-359ba57a08c1"
      },
      "outputs": [
        {
          "output_type": "execute_result",
          "data": {
            "text/plain": [
              "   CustomerKey  Recency  SalesOrderLineNumber  Monetary  R  F  M\n",
              "0      11000.0     -549                     5   2507.03  3  2  3\n",
              "1      11002.0      298                     1   3399.99  1  3  3\n",
              "2      11003.0     -431                     4   2318.96  3  2  3\n",
              "3      11004.0     -547                     2   2419.06  3  3  3\n",
              "4      11005.0     -548                     1   2384.07  3  3  3"
            ],
            "text/html": [
              "\n",
              "  <div id=\"df-ea70cb73-8c95-4761-aa6b-3110d44d2fc4\">\n",
              "    <div class=\"colab-df-container\">\n",
              "      <div>\n",
              "<style scoped>\n",
              "    .dataframe tbody tr th:only-of-type {\n",
              "        vertical-align: middle;\n",
              "    }\n",
              "\n",
              "    .dataframe tbody tr th {\n",
              "        vertical-align: top;\n",
              "    }\n",
              "\n",
              "    .dataframe thead th {\n",
              "        text-align: right;\n",
              "    }\n",
              "</style>\n",
              "<table border=\"1\" class=\"dataframe\">\n",
              "  <thead>\n",
              "    <tr style=\"text-align: right;\">\n",
              "      <th></th>\n",
              "      <th>CustomerKey</th>\n",
              "      <th>Recency</th>\n",
              "      <th>SalesOrderLineNumber</th>\n",
              "      <th>Monetary</th>\n",
              "      <th>R</th>\n",
              "      <th>F</th>\n",
              "      <th>M</th>\n",
              "    </tr>\n",
              "  </thead>\n",
              "  <tbody>\n",
              "    <tr>\n",
              "      <th>0</th>\n",
              "      <td>11000.0</td>\n",
              "      <td>-549</td>\n",
              "      <td>5</td>\n",
              "      <td>2507.03</td>\n",
              "      <td>3</td>\n",
              "      <td>2</td>\n",
              "      <td>3</td>\n",
              "    </tr>\n",
              "    <tr>\n",
              "      <th>1</th>\n",
              "      <td>11002.0</td>\n",
              "      <td>298</td>\n",
              "      <td>1</td>\n",
              "      <td>3399.99</td>\n",
              "      <td>1</td>\n",
              "      <td>3</td>\n",
              "      <td>3</td>\n",
              "    </tr>\n",
              "    <tr>\n",
              "      <th>2</th>\n",
              "      <td>11003.0</td>\n",
              "      <td>-431</td>\n",
              "      <td>4</td>\n",
              "      <td>2318.96</td>\n",
              "      <td>3</td>\n",
              "      <td>2</td>\n",
              "      <td>3</td>\n",
              "    </tr>\n",
              "    <tr>\n",
              "      <th>3</th>\n",
              "      <td>11004.0</td>\n",
              "      <td>-547</td>\n",
              "      <td>2</td>\n",
              "      <td>2419.06</td>\n",
              "      <td>3</td>\n",
              "      <td>3</td>\n",
              "      <td>3</td>\n",
              "    </tr>\n",
              "    <tr>\n",
              "      <th>4</th>\n",
              "      <td>11005.0</td>\n",
              "      <td>-548</td>\n",
              "      <td>1</td>\n",
              "      <td>2384.07</td>\n",
              "      <td>3</td>\n",
              "      <td>3</td>\n",
              "      <td>3</td>\n",
              "    </tr>\n",
              "  </tbody>\n",
              "</table>\n",
              "</div>\n",
              "      <button class=\"colab-df-convert\" onclick=\"convertToInteractive('df-ea70cb73-8c95-4761-aa6b-3110d44d2fc4')\"\n",
              "              title=\"Convert this dataframe to an interactive table.\"\n",
              "              style=\"display:none;\">\n",
              "        \n",
              "  <svg xmlns=\"http://www.w3.org/2000/svg\" height=\"24px\"viewBox=\"0 0 24 24\"\n",
              "       width=\"24px\">\n",
              "    <path d=\"M0 0h24v24H0V0z\" fill=\"none\"/>\n",
              "    <path d=\"M18.56 5.44l.94 2.06.94-2.06 2.06-.94-2.06-.94-.94-2.06-.94 2.06-2.06.94zm-11 1L8.5 8.5l.94-2.06 2.06-.94-2.06-.94L8.5 2.5l-.94 2.06-2.06.94zm10 10l.94 2.06.94-2.06 2.06-.94-2.06-.94-.94-2.06-.94 2.06-2.06.94z\"/><path d=\"M17.41 7.96l-1.37-1.37c-.4-.4-.92-.59-1.43-.59-.52 0-1.04.2-1.43.59L10.3 9.45l-7.72 7.72c-.78.78-.78 2.05 0 2.83L4 21.41c.39.39.9.59 1.41.59.51 0 1.02-.2 1.41-.59l7.78-7.78 2.81-2.81c.8-.78.8-2.07 0-2.86zM5.41 20L4 18.59l7.72-7.72 1.47 1.35L5.41 20z\"/>\n",
              "  </svg>\n",
              "      </button>\n",
              "      \n",
              "  <style>\n",
              "    .colab-df-container {\n",
              "      display:flex;\n",
              "      flex-wrap:wrap;\n",
              "      gap: 12px;\n",
              "    }\n",
              "\n",
              "    .colab-df-convert {\n",
              "      background-color: #E8F0FE;\n",
              "      border: none;\n",
              "      border-radius: 50%;\n",
              "      cursor: pointer;\n",
              "      display: none;\n",
              "      fill: #1967D2;\n",
              "      height: 32px;\n",
              "      padding: 0 0 0 0;\n",
              "      width: 32px;\n",
              "    }\n",
              "\n",
              "    .colab-df-convert:hover {\n",
              "      background-color: #E2EBFA;\n",
              "      box-shadow: 0px 1px 2px rgba(60, 64, 67, 0.3), 0px 1px 3px 1px rgba(60, 64, 67, 0.15);\n",
              "      fill: #174EA6;\n",
              "    }\n",
              "\n",
              "    [theme=dark] .colab-df-convert {\n",
              "      background-color: #3B4455;\n",
              "      fill: #D2E3FC;\n",
              "    }\n",
              "\n",
              "    [theme=dark] .colab-df-convert:hover {\n",
              "      background-color: #434B5C;\n",
              "      box-shadow: 0px 1px 3px 1px rgba(0, 0, 0, 0.15);\n",
              "      filter: drop-shadow(0px 1px 2px rgba(0, 0, 0, 0.3));\n",
              "      fill: #FFFFFF;\n",
              "    }\n",
              "  </style>\n",
              "\n",
              "      <script>\n",
              "        const buttonEl =\n",
              "          document.querySelector('#df-ea70cb73-8c95-4761-aa6b-3110d44d2fc4 button.colab-df-convert');\n",
              "        buttonEl.style.display =\n",
              "          google.colab.kernel.accessAllowed ? 'block' : 'none';\n",
              "\n",
              "        async function convertToInteractive(key) {\n",
              "          const element = document.querySelector('#df-ea70cb73-8c95-4761-aa6b-3110d44d2fc4');\n",
              "          const dataTable =\n",
              "            await google.colab.kernel.invokeFunction('convertToInteractive',\n",
              "                                                     [key], {});\n",
              "          if (!dataTable) return;\n",
              "\n",
              "          const docLinkHtml = 'Like what you see? Visit the ' +\n",
              "            '<a target=\"_blank\" href=https://colab.research.google.com/notebooks/data_table.ipynb>data table notebook</a>'\n",
              "            + ' to learn more about interactive tables.';\n",
              "          element.innerHTML = '';\n",
              "          dataTable['output_type'] = 'display_data';\n",
              "          await google.colab.output.renderOutput(dataTable, element);\n",
              "          const docLink = document.createElement('div');\n",
              "          docLink.innerHTML = docLinkHtml;\n",
              "          element.appendChild(docLink);\n",
              "        }\n",
              "      </script>\n",
              "    </div>\n",
              "  </div>\n",
              "  "
            ]
          },
          "metadata": {},
          "execution_count": 61
        }
      ],
      "source": [
        "rfm.head()"
      ]
    },
    {
      "cell_type": "code",
      "execution_count": 62,
      "metadata": {
        "id": "gtKP0hFkR34a"
      },
      "outputs": [],
      "source": [
        "def RFM_Score(x):\n",
        "    return str(x['R']) + str(x['F']) + str(x['M'])\n",
        "rfm['RFM_Score'] = rfm.apply(RFM_Score,axis=1)"
      ]
    },
    {
      "cell_type": "code",
      "execution_count": 63,
      "metadata": {
        "colab": {
          "base_uri": "https://localhost:8080/",
          "height": 204
        },
        "id": "yiwcG81CR34a",
        "outputId": "b12e6888-a5b5-4491-e508-581274ed05b0"
      },
      "outputs": [
        {
          "output_type": "execute_result",
          "data": {
            "text/plain": [
              "   CustomerKey  Recency  SalesOrderLineNumber  Monetary  R  F  M  RFM_Score\n",
              "0      11000.0     -549                     5   2507.03  3  2  3  3.02.03.0\n",
              "1      11002.0      298                     1   3399.99  1  3  3  1.03.03.0\n",
              "2      11003.0     -431                     4   2318.96  3  2  3  3.02.03.0\n",
              "3      11004.0     -547                     2   2419.06  3  3  3  3.03.03.0\n",
              "4      11005.0     -548                     1   2384.07  3  3  3  3.03.03.0"
            ],
            "text/html": [
              "\n",
              "  <div id=\"df-46b9ff2d-d795-4398-8d9b-8577ea812c62\">\n",
              "    <div class=\"colab-df-container\">\n",
              "      <div>\n",
              "<style scoped>\n",
              "    .dataframe tbody tr th:only-of-type {\n",
              "        vertical-align: middle;\n",
              "    }\n",
              "\n",
              "    .dataframe tbody tr th {\n",
              "        vertical-align: top;\n",
              "    }\n",
              "\n",
              "    .dataframe thead th {\n",
              "        text-align: right;\n",
              "    }\n",
              "</style>\n",
              "<table border=\"1\" class=\"dataframe\">\n",
              "  <thead>\n",
              "    <tr style=\"text-align: right;\">\n",
              "      <th></th>\n",
              "      <th>CustomerKey</th>\n",
              "      <th>Recency</th>\n",
              "      <th>SalesOrderLineNumber</th>\n",
              "      <th>Monetary</th>\n",
              "      <th>R</th>\n",
              "      <th>F</th>\n",
              "      <th>M</th>\n",
              "      <th>RFM_Score</th>\n",
              "    </tr>\n",
              "  </thead>\n",
              "  <tbody>\n",
              "    <tr>\n",
              "      <th>0</th>\n",
              "      <td>11000.0</td>\n",
              "      <td>-549</td>\n",
              "      <td>5</td>\n",
              "      <td>2507.03</td>\n",
              "      <td>3</td>\n",
              "      <td>2</td>\n",
              "      <td>3</td>\n",
              "      <td>3.02.03.0</td>\n",
              "    </tr>\n",
              "    <tr>\n",
              "      <th>1</th>\n",
              "      <td>11002.0</td>\n",
              "      <td>298</td>\n",
              "      <td>1</td>\n",
              "      <td>3399.99</td>\n",
              "      <td>1</td>\n",
              "      <td>3</td>\n",
              "      <td>3</td>\n",
              "      <td>1.03.03.0</td>\n",
              "    </tr>\n",
              "    <tr>\n",
              "      <th>2</th>\n",
              "      <td>11003.0</td>\n",
              "      <td>-431</td>\n",
              "      <td>4</td>\n",
              "      <td>2318.96</td>\n",
              "      <td>3</td>\n",
              "      <td>2</td>\n",
              "      <td>3</td>\n",
              "      <td>3.02.03.0</td>\n",
              "    </tr>\n",
              "    <tr>\n",
              "      <th>3</th>\n",
              "      <td>11004.0</td>\n",
              "      <td>-547</td>\n",
              "      <td>2</td>\n",
              "      <td>2419.06</td>\n",
              "      <td>3</td>\n",
              "      <td>3</td>\n",
              "      <td>3</td>\n",
              "      <td>3.03.03.0</td>\n",
              "    </tr>\n",
              "    <tr>\n",
              "      <th>4</th>\n",
              "      <td>11005.0</td>\n",
              "      <td>-548</td>\n",
              "      <td>1</td>\n",
              "      <td>2384.07</td>\n",
              "      <td>3</td>\n",
              "      <td>3</td>\n",
              "      <td>3</td>\n",
              "      <td>3.03.03.0</td>\n",
              "    </tr>\n",
              "  </tbody>\n",
              "</table>\n",
              "</div>\n",
              "      <button class=\"colab-df-convert\" onclick=\"convertToInteractive('df-46b9ff2d-d795-4398-8d9b-8577ea812c62')\"\n",
              "              title=\"Convert this dataframe to an interactive table.\"\n",
              "              style=\"display:none;\">\n",
              "        \n",
              "  <svg xmlns=\"http://www.w3.org/2000/svg\" height=\"24px\"viewBox=\"0 0 24 24\"\n",
              "       width=\"24px\">\n",
              "    <path d=\"M0 0h24v24H0V0z\" fill=\"none\"/>\n",
              "    <path d=\"M18.56 5.44l.94 2.06.94-2.06 2.06-.94-2.06-.94-.94-2.06-.94 2.06-2.06.94zm-11 1L8.5 8.5l.94-2.06 2.06-.94-2.06-.94L8.5 2.5l-.94 2.06-2.06.94zm10 10l.94 2.06.94-2.06 2.06-.94-2.06-.94-.94-2.06-.94 2.06-2.06.94z\"/><path d=\"M17.41 7.96l-1.37-1.37c-.4-.4-.92-.59-1.43-.59-.52 0-1.04.2-1.43.59L10.3 9.45l-7.72 7.72c-.78.78-.78 2.05 0 2.83L4 21.41c.39.39.9.59 1.41.59.51 0 1.02-.2 1.41-.59l7.78-7.78 2.81-2.81c.8-.78.8-2.07 0-2.86zM5.41 20L4 18.59l7.72-7.72 1.47 1.35L5.41 20z\"/>\n",
              "  </svg>\n",
              "      </button>\n",
              "      \n",
              "  <style>\n",
              "    .colab-df-container {\n",
              "      display:flex;\n",
              "      flex-wrap:wrap;\n",
              "      gap: 12px;\n",
              "    }\n",
              "\n",
              "    .colab-df-convert {\n",
              "      background-color: #E8F0FE;\n",
              "      border: none;\n",
              "      border-radius: 50%;\n",
              "      cursor: pointer;\n",
              "      display: none;\n",
              "      fill: #1967D2;\n",
              "      height: 32px;\n",
              "      padding: 0 0 0 0;\n",
              "      width: 32px;\n",
              "    }\n",
              "\n",
              "    .colab-df-convert:hover {\n",
              "      background-color: #E2EBFA;\n",
              "      box-shadow: 0px 1px 2px rgba(60, 64, 67, 0.3), 0px 1px 3px 1px rgba(60, 64, 67, 0.15);\n",
              "      fill: #174EA6;\n",
              "    }\n",
              "\n",
              "    [theme=dark] .colab-df-convert {\n",
              "      background-color: #3B4455;\n",
              "      fill: #D2E3FC;\n",
              "    }\n",
              "\n",
              "    [theme=dark] .colab-df-convert:hover {\n",
              "      background-color: #434B5C;\n",
              "      box-shadow: 0px 1px 3px 1px rgba(0, 0, 0, 0.15);\n",
              "      filter: drop-shadow(0px 1px 2px rgba(0, 0, 0, 0.3));\n",
              "      fill: #FFFFFF;\n",
              "    }\n",
              "  </style>\n",
              "\n",
              "      <script>\n",
              "        const buttonEl =\n",
              "          document.querySelector('#df-46b9ff2d-d795-4398-8d9b-8577ea812c62 button.colab-df-convert');\n",
              "        buttonEl.style.display =\n",
              "          google.colab.kernel.accessAllowed ? 'block' : 'none';\n",
              "\n",
              "        async function convertToInteractive(key) {\n",
              "          const element = document.querySelector('#df-46b9ff2d-d795-4398-8d9b-8577ea812c62');\n",
              "          const dataTable =\n",
              "            await google.colab.kernel.invokeFunction('convertToInteractive',\n",
              "                                                     [key], {});\n",
              "          if (!dataTable) return;\n",
              "\n",
              "          const docLinkHtml = 'Like what you see? Visit the ' +\n",
              "            '<a target=\"_blank\" href=https://colab.research.google.com/notebooks/data_table.ipynb>data table notebook</a>'\n",
              "            + ' to learn more about interactive tables.';\n",
              "          element.innerHTML = '';\n",
              "          dataTable['output_type'] = 'display_data';\n",
              "          await google.colab.output.renderOutput(dataTable, element);\n",
              "          const docLink = document.createElement('div');\n",
              "          docLink.innerHTML = docLinkHtml;\n",
              "          element.appendChild(docLink);\n",
              "        }\n",
              "      </script>\n",
              "    </div>\n",
              "  </div>\n",
              "  "
            ]
          },
          "metadata": {},
          "execution_count": 63
        }
      ],
      "source": [
        "rfm.head()"
      ]
    },
    {
      "cell_type": "code",
      "execution_count": 64,
      "metadata": {
        "id": "E9H8RNtWR34b"
      },
      "outputs": [],
      "source": [
        "segment = [0]*len(rfm)\n",
        "\n",
        "best = list(rfm.loc[rfm['RFM_Score']=='333'].index)\n",
        "lost_cheap = list(rfm.loc[rfm['RFM_Score']=='111'].index)\n",
        "lost = list(rfm.loc[rfm['RFM_Score']=='133'].index)\n",
        "lost_almost = list(rfm.loc[rfm['RFM_Score']=='233'].index)\n",
        "\n",
        "for i in range(0,len(rfm)):\n",
        "    if rfm['RFM_Score'][i]=='111':\n",
        "        segment[i]='Lost Cheap Customers'\n",
        "    elif rfm['RFM_Score'][i]=='133':\n",
        "        segment[i]='Lost Customers'\n",
        "    elif rfm['RFM_Score'][i]=='233':\n",
        "        segment[i]='Almost Lost Customers'\n",
        "    elif rfm['RFM_Score'][i]=='333':\n",
        "        segment[i]='Best Customers'\n",
        "    else:\n",
        "        segment[i]='Others'"
      ]
    },
    {
      "cell_type": "code",
      "execution_count": 67,
      "metadata": {
        "id": "CFBxuPtPR34c"
      },
      "outputs": [],
      "source": [
        "best = list(rfm.loc[rfm['RFM_Score']=='333'].index)\n",
        "lost_cheap = list(rfm.loc[rfm['RFM_Score']=='111'].index)\n",
        "lost = list(rfm.loc[rfm['RFM_Score']=='133'].index)\n",
        "lost_almost = list(rfm.loc[rfm['RFM_Score']=='233'].index)"
      ]
    },
    {
      "cell_type": "code",
      "execution_count": 68,
      "metadata": {
        "colab": {
          "base_uri": "https://localhost:8080/",
          "height": 204
        },
        "id": "POZcoF7pR34d",
        "outputId": "22d05fcf-48bc-4ff7-ac7a-fda7718632df"
      },
      "outputs": [
        {
          "output_type": "execute_result",
          "data": {
            "text/plain": [
              "   CustomerKey  Recency  SalesOrderLineNumber  Monetary  R  F  M  RFM_Score\n",
              "0      11000.0     -549                     5   2507.03  3  2  3  3.02.03.0\n",
              "1      11002.0      298                     1   3399.99  1  3  3  1.03.03.0\n",
              "2      11003.0     -431                     4   2318.96  3  2  3  3.02.03.0\n",
              "3      11004.0     -547                     2   2419.06  3  3  3  3.03.03.0\n",
              "4      11005.0     -548                     1   2384.07  3  3  3  3.03.03.0"
            ],
            "text/html": [
              "\n",
              "  <div id=\"df-405acb0d-7e3f-459c-a3f9-3dc8b7af3cd0\">\n",
              "    <div class=\"colab-df-container\">\n",
              "      <div>\n",
              "<style scoped>\n",
              "    .dataframe tbody tr th:only-of-type {\n",
              "        vertical-align: middle;\n",
              "    }\n",
              "\n",
              "    .dataframe tbody tr th {\n",
              "        vertical-align: top;\n",
              "    }\n",
              "\n",
              "    .dataframe thead th {\n",
              "        text-align: right;\n",
              "    }\n",
              "</style>\n",
              "<table border=\"1\" class=\"dataframe\">\n",
              "  <thead>\n",
              "    <tr style=\"text-align: right;\">\n",
              "      <th></th>\n",
              "      <th>CustomerKey</th>\n",
              "      <th>Recency</th>\n",
              "      <th>SalesOrderLineNumber</th>\n",
              "      <th>Monetary</th>\n",
              "      <th>R</th>\n",
              "      <th>F</th>\n",
              "      <th>M</th>\n",
              "      <th>RFM_Score</th>\n",
              "    </tr>\n",
              "  </thead>\n",
              "  <tbody>\n",
              "    <tr>\n",
              "      <th>0</th>\n",
              "      <td>11000.0</td>\n",
              "      <td>-549</td>\n",
              "      <td>5</td>\n",
              "      <td>2507.03</td>\n",
              "      <td>3</td>\n",
              "      <td>2</td>\n",
              "      <td>3</td>\n",
              "      <td>3.02.03.0</td>\n",
              "    </tr>\n",
              "    <tr>\n",
              "      <th>1</th>\n",
              "      <td>11002.0</td>\n",
              "      <td>298</td>\n",
              "      <td>1</td>\n",
              "      <td>3399.99</td>\n",
              "      <td>1</td>\n",
              "      <td>3</td>\n",
              "      <td>3</td>\n",
              "      <td>1.03.03.0</td>\n",
              "    </tr>\n",
              "    <tr>\n",
              "      <th>2</th>\n",
              "      <td>11003.0</td>\n",
              "      <td>-431</td>\n",
              "      <td>4</td>\n",
              "      <td>2318.96</td>\n",
              "      <td>3</td>\n",
              "      <td>2</td>\n",
              "      <td>3</td>\n",
              "      <td>3.02.03.0</td>\n",
              "    </tr>\n",
              "    <tr>\n",
              "      <th>3</th>\n",
              "      <td>11004.0</td>\n",
              "      <td>-547</td>\n",
              "      <td>2</td>\n",
              "      <td>2419.06</td>\n",
              "      <td>3</td>\n",
              "      <td>3</td>\n",
              "      <td>3</td>\n",
              "      <td>3.03.03.0</td>\n",
              "    </tr>\n",
              "    <tr>\n",
              "      <th>4</th>\n",
              "      <td>11005.0</td>\n",
              "      <td>-548</td>\n",
              "      <td>1</td>\n",
              "      <td>2384.07</td>\n",
              "      <td>3</td>\n",
              "      <td>3</td>\n",
              "      <td>3</td>\n",
              "      <td>3.03.03.0</td>\n",
              "    </tr>\n",
              "  </tbody>\n",
              "</table>\n",
              "</div>\n",
              "      <button class=\"colab-df-convert\" onclick=\"convertToInteractive('df-405acb0d-7e3f-459c-a3f9-3dc8b7af3cd0')\"\n",
              "              title=\"Convert this dataframe to an interactive table.\"\n",
              "              style=\"display:none;\">\n",
              "        \n",
              "  <svg xmlns=\"http://www.w3.org/2000/svg\" height=\"24px\"viewBox=\"0 0 24 24\"\n",
              "       width=\"24px\">\n",
              "    <path d=\"M0 0h24v24H0V0z\" fill=\"none\"/>\n",
              "    <path d=\"M18.56 5.44l.94 2.06.94-2.06 2.06-.94-2.06-.94-.94-2.06-.94 2.06-2.06.94zm-11 1L8.5 8.5l.94-2.06 2.06-.94-2.06-.94L8.5 2.5l-.94 2.06-2.06.94zm10 10l.94 2.06.94-2.06 2.06-.94-2.06-.94-.94-2.06-.94 2.06-2.06.94z\"/><path d=\"M17.41 7.96l-1.37-1.37c-.4-.4-.92-.59-1.43-.59-.52 0-1.04.2-1.43.59L10.3 9.45l-7.72 7.72c-.78.78-.78 2.05 0 2.83L4 21.41c.39.39.9.59 1.41.59.51 0 1.02-.2 1.41-.59l7.78-7.78 2.81-2.81c.8-.78.8-2.07 0-2.86zM5.41 20L4 18.59l7.72-7.72 1.47 1.35L5.41 20z\"/>\n",
              "  </svg>\n",
              "      </button>\n",
              "      \n",
              "  <style>\n",
              "    .colab-df-container {\n",
              "      display:flex;\n",
              "      flex-wrap:wrap;\n",
              "      gap: 12px;\n",
              "    }\n",
              "\n",
              "    .colab-df-convert {\n",
              "      background-color: #E8F0FE;\n",
              "      border: none;\n",
              "      border-radius: 50%;\n",
              "      cursor: pointer;\n",
              "      display: none;\n",
              "      fill: #1967D2;\n",
              "      height: 32px;\n",
              "      padding: 0 0 0 0;\n",
              "      width: 32px;\n",
              "    }\n",
              "\n",
              "    .colab-df-convert:hover {\n",
              "      background-color: #E2EBFA;\n",
              "      box-shadow: 0px 1px 2px rgba(60, 64, 67, 0.3), 0px 1px 3px 1px rgba(60, 64, 67, 0.15);\n",
              "      fill: #174EA6;\n",
              "    }\n",
              "\n",
              "    [theme=dark] .colab-df-convert {\n",
              "      background-color: #3B4455;\n",
              "      fill: #D2E3FC;\n",
              "    }\n",
              "\n",
              "    [theme=dark] .colab-df-convert:hover {\n",
              "      background-color: #434B5C;\n",
              "      box-shadow: 0px 1px 3px 1px rgba(0, 0, 0, 0.15);\n",
              "      filter: drop-shadow(0px 1px 2px rgba(0, 0, 0, 0.3));\n",
              "      fill: #FFFFFF;\n",
              "    }\n",
              "  </style>\n",
              "\n",
              "      <script>\n",
              "        const buttonEl =\n",
              "          document.querySelector('#df-405acb0d-7e3f-459c-a3f9-3dc8b7af3cd0 button.colab-df-convert');\n",
              "        buttonEl.style.display =\n",
              "          google.colab.kernel.accessAllowed ? 'block' : 'none';\n",
              "\n",
              "        async function convertToInteractive(key) {\n",
              "          const element = document.querySelector('#df-405acb0d-7e3f-459c-a3f9-3dc8b7af3cd0');\n",
              "          const dataTable =\n",
              "            await google.colab.kernel.invokeFunction('convertToInteractive',\n",
              "                                                     [key], {});\n",
              "          if (!dataTable) return;\n",
              "\n",
              "          const docLinkHtml = 'Like what you see? Visit the ' +\n",
              "            '<a target=\"_blank\" href=https://colab.research.google.com/notebooks/data_table.ipynb>data table notebook</a>'\n",
              "            + ' to learn more about interactive tables.';\n",
              "          element.innerHTML = '';\n",
              "          dataTable['output_type'] = 'display_data';\n",
              "          await google.colab.output.renderOutput(dataTable, element);\n",
              "          const docLink = document.createElement('div');\n",
              "          docLink.innerHTML = docLinkHtml;\n",
              "          element.appendChild(docLink);\n",
              "        }\n",
              "      </script>\n",
              "    </div>\n",
              "  </div>\n",
              "  "
            ]
          },
          "metadata": {},
          "execution_count": 68
        }
      ],
      "source": [
        "loyal = list(rfm.loc[rfm['F']==3].index)\n",
        "loyal2=[]\n",
        "for i in loyal:\n",
        "    if i not in best and i not in lost and i not in lost_cheap and i not in lost_almost:\n",
        "            loyal2.append(i)\n",
        "for i in rfm.index:\n",
        "    if i in loyal2:\n",
        "        segment[i] = 'Loyal Customers'\n",
        "\n",
        "rfm.head()"
      ]
    },
    {
      "cell_type": "code",
      "execution_count": 69,
      "metadata": {
        "colab": {
          "base_uri": "https://localhost:8080/",
          "height": 204
        },
        "id": "kTfZAZT_R34f",
        "outputId": "c98f8336-673e-4b5b-8943-59289b13d28a"
      },
      "outputs": [
        {
          "output_type": "execute_result",
          "data": {
            "text/plain": [
              "   CustomerKey  Recency  SalesOrderLineNumber  Monetary  R  F  M  RFM_Score\n",
              "0      11000.0     -549                     5   2507.03  3  2  3  3.02.03.0\n",
              "1      11002.0      298                     1   3399.99  1  3  3  1.03.03.0\n",
              "2      11003.0     -431                     4   2318.96  3  2  3  3.02.03.0\n",
              "3      11004.0     -547                     2   2419.06  3  3  3  3.03.03.0\n",
              "4      11005.0     -548                     1   2384.07  3  3  3  3.03.03.0"
            ],
            "text/html": [
              "\n",
              "  <div id=\"df-1ff1f102-6348-4d90-9761-d2c918bc2d64\">\n",
              "    <div class=\"colab-df-container\">\n",
              "      <div>\n",
              "<style scoped>\n",
              "    .dataframe tbody tr th:only-of-type {\n",
              "        vertical-align: middle;\n",
              "    }\n",
              "\n",
              "    .dataframe tbody tr th {\n",
              "        vertical-align: top;\n",
              "    }\n",
              "\n",
              "    .dataframe thead th {\n",
              "        text-align: right;\n",
              "    }\n",
              "</style>\n",
              "<table border=\"1\" class=\"dataframe\">\n",
              "  <thead>\n",
              "    <tr style=\"text-align: right;\">\n",
              "      <th></th>\n",
              "      <th>CustomerKey</th>\n",
              "      <th>Recency</th>\n",
              "      <th>SalesOrderLineNumber</th>\n",
              "      <th>Monetary</th>\n",
              "      <th>R</th>\n",
              "      <th>F</th>\n",
              "      <th>M</th>\n",
              "      <th>RFM_Score</th>\n",
              "    </tr>\n",
              "  </thead>\n",
              "  <tbody>\n",
              "    <tr>\n",
              "      <th>0</th>\n",
              "      <td>11000.0</td>\n",
              "      <td>-549</td>\n",
              "      <td>5</td>\n",
              "      <td>2507.03</td>\n",
              "      <td>3</td>\n",
              "      <td>2</td>\n",
              "      <td>3</td>\n",
              "      <td>3.02.03.0</td>\n",
              "    </tr>\n",
              "    <tr>\n",
              "      <th>1</th>\n",
              "      <td>11002.0</td>\n",
              "      <td>298</td>\n",
              "      <td>1</td>\n",
              "      <td>3399.99</td>\n",
              "      <td>1</td>\n",
              "      <td>3</td>\n",
              "      <td>3</td>\n",
              "      <td>1.03.03.0</td>\n",
              "    </tr>\n",
              "    <tr>\n",
              "      <th>2</th>\n",
              "      <td>11003.0</td>\n",
              "      <td>-431</td>\n",
              "      <td>4</td>\n",
              "      <td>2318.96</td>\n",
              "      <td>3</td>\n",
              "      <td>2</td>\n",
              "      <td>3</td>\n",
              "      <td>3.02.03.0</td>\n",
              "    </tr>\n",
              "    <tr>\n",
              "      <th>3</th>\n",
              "      <td>11004.0</td>\n",
              "      <td>-547</td>\n",
              "      <td>2</td>\n",
              "      <td>2419.06</td>\n",
              "      <td>3</td>\n",
              "      <td>3</td>\n",
              "      <td>3</td>\n",
              "      <td>3.03.03.0</td>\n",
              "    </tr>\n",
              "    <tr>\n",
              "      <th>4</th>\n",
              "      <td>11005.0</td>\n",
              "      <td>-548</td>\n",
              "      <td>1</td>\n",
              "      <td>2384.07</td>\n",
              "      <td>3</td>\n",
              "      <td>3</td>\n",
              "      <td>3</td>\n",
              "      <td>3.03.03.0</td>\n",
              "    </tr>\n",
              "  </tbody>\n",
              "</table>\n",
              "</div>\n",
              "      <button class=\"colab-df-convert\" onclick=\"convertToInteractive('df-1ff1f102-6348-4d90-9761-d2c918bc2d64')\"\n",
              "              title=\"Convert this dataframe to an interactive table.\"\n",
              "              style=\"display:none;\">\n",
              "        \n",
              "  <svg xmlns=\"http://www.w3.org/2000/svg\" height=\"24px\"viewBox=\"0 0 24 24\"\n",
              "       width=\"24px\">\n",
              "    <path d=\"M0 0h24v24H0V0z\" fill=\"none\"/>\n",
              "    <path d=\"M18.56 5.44l.94 2.06.94-2.06 2.06-.94-2.06-.94-.94-2.06-.94 2.06-2.06.94zm-11 1L8.5 8.5l.94-2.06 2.06-.94-2.06-.94L8.5 2.5l-.94 2.06-2.06.94zm10 10l.94 2.06.94-2.06 2.06-.94-2.06-.94-.94-2.06-.94 2.06-2.06.94z\"/><path d=\"M17.41 7.96l-1.37-1.37c-.4-.4-.92-.59-1.43-.59-.52 0-1.04.2-1.43.59L10.3 9.45l-7.72 7.72c-.78.78-.78 2.05 0 2.83L4 21.41c.39.39.9.59 1.41.59.51 0 1.02-.2 1.41-.59l7.78-7.78 2.81-2.81c.8-.78.8-2.07 0-2.86zM5.41 20L4 18.59l7.72-7.72 1.47 1.35L5.41 20z\"/>\n",
              "  </svg>\n",
              "      </button>\n",
              "      \n",
              "  <style>\n",
              "    .colab-df-container {\n",
              "      display:flex;\n",
              "      flex-wrap:wrap;\n",
              "      gap: 12px;\n",
              "    }\n",
              "\n",
              "    .colab-df-convert {\n",
              "      background-color: #E8F0FE;\n",
              "      border: none;\n",
              "      border-radius: 50%;\n",
              "      cursor: pointer;\n",
              "      display: none;\n",
              "      fill: #1967D2;\n",
              "      height: 32px;\n",
              "      padding: 0 0 0 0;\n",
              "      width: 32px;\n",
              "    }\n",
              "\n",
              "    .colab-df-convert:hover {\n",
              "      background-color: #E2EBFA;\n",
              "      box-shadow: 0px 1px 2px rgba(60, 64, 67, 0.3), 0px 1px 3px 1px rgba(60, 64, 67, 0.15);\n",
              "      fill: #174EA6;\n",
              "    }\n",
              "\n",
              "    [theme=dark] .colab-df-convert {\n",
              "      background-color: #3B4455;\n",
              "      fill: #D2E3FC;\n",
              "    }\n",
              "\n",
              "    [theme=dark] .colab-df-convert:hover {\n",
              "      background-color: #434B5C;\n",
              "      box-shadow: 0px 1px 3px 1px rgba(0, 0, 0, 0.15);\n",
              "      filter: drop-shadow(0px 1px 2px rgba(0, 0, 0, 0.3));\n",
              "      fill: #FFFFFF;\n",
              "    }\n",
              "  </style>\n",
              "\n",
              "      <script>\n",
              "        const buttonEl =\n",
              "          document.querySelector('#df-1ff1f102-6348-4d90-9761-d2c918bc2d64 button.colab-df-convert');\n",
              "        buttonEl.style.display =\n",
              "          google.colab.kernel.accessAllowed ? 'block' : 'none';\n",
              "\n",
              "        async function convertToInteractive(key) {\n",
              "          const element = document.querySelector('#df-1ff1f102-6348-4d90-9761-d2c918bc2d64');\n",
              "          const dataTable =\n",
              "            await google.colab.kernel.invokeFunction('convertToInteractive',\n",
              "                                                     [key], {});\n",
              "          if (!dataTable) return;\n",
              "\n",
              "          const docLinkHtml = 'Like what you see? Visit the ' +\n",
              "            '<a target=\"_blank\" href=https://colab.research.google.com/notebooks/data_table.ipynb>data table notebook</a>'\n",
              "            + ' to learn more about interactive tables.';\n",
              "          element.innerHTML = '';\n",
              "          dataTable['output_type'] = 'display_data';\n",
              "          await google.colab.output.renderOutput(dataTable, element);\n",
              "          const docLink = document.createElement('div');\n",
              "          docLink.innerHTML = docLinkHtml;\n",
              "          element.appendChild(docLink);\n",
              "        }\n",
              "      </script>\n",
              "    </div>\n",
              "  </div>\n",
              "  "
            ]
          },
          "metadata": {},
          "execution_count": 69
        }
      ],
      "source": [
        "big = list(rfm.loc[rfm['M']==3].index)\n",
        "big2=[]\n",
        "for i in big:\n",
        "    if i not in best and i not in lost and i not in lost_cheap and i not in lost_almost:\n",
        "            big2.append(i)\n",
        "for i in rfm.index:\n",
        "    if i in big2:\n",
        "        segment[i] = 'Big Spenders'\n",
        "\n",
        "rfm.head()"
      ]
    },
    {
      "cell_type": "code",
      "execution_count": 70,
      "metadata": {
        "id": "XpOJj1XTR34g"
      },
      "outputs": [],
      "source": [
        "rfm['segment'] = segment"
      ]
    },
    {
      "cell_type": "code",
      "execution_count": 71,
      "metadata": {
        "colab": {
          "base_uri": "https://localhost:8080/",
          "height": 669
        },
        "id": "xNPZjY-UR34h",
        "outputId": "d80345e4-786a-4906-a01f-000eb6a6857c"
      },
      "outputs": [
        {
          "output_type": "execute_result",
          "data": {
            "text/plain": [
              "    CustomerKey  Recency  SalesOrderLineNumber  Monetary  R  F  M  RFM_Score  \\\n",
              "0       11000.0     -549                     5   2507.03  3  2  3  3.02.03.0   \n",
              "1       11002.0      298                     1   3399.99  1  3  3  1.03.03.0   \n",
              "2       11003.0     -431                     4   2318.96  3  2  3  3.02.03.0   \n",
              "3       11004.0     -547                     2   2419.06  3  3  3  3.03.03.0   \n",
              "4       11005.0     -548                     1   2384.07  3  3  3  3.03.03.0   \n",
              "5       11007.0      296                     1   3399.99  1  3  3  1.03.03.0   \n",
              "6       11008.0     -487                     4   4731.32  3  2  3  3.02.03.0   \n",
              "7       11009.0     -555                     2   2419.06  3  3  3  3.03.03.0   \n",
              "8       11016.0     -466                     3   2332.28  3  3  3  3.03.03.0   \n",
              "9       11017.0     -427                     2   2316.97  3  3  3  3.03.03.0   \n",
              "10      11019.0     -677                     2     86.26  3  3  2  3.03.02.0   \n",
              "11      11025.0      299                     1   3374.99  1  3  3  1.03.03.0   \n",
              "12      11029.0     -547                     3   2408.97  3  3  3  3.03.03.0   \n",
              "13      11030.0      269                     1   3399.99  1  3  3  1.03.03.0   \n",
              "14      11031.0      273                     1   3399.99  1  3  3  1.03.03.0   \n",
              "15      11033.0     -639                     2   2354.98  3  3  3  3.03.03.0   \n",
              "16      11034.0     -644                     1   5694.98  3  3  3  3.03.03.0   \n",
              "17      11035.0      268                     1   3374.99  1  3  3  1.03.03.0   \n",
              "18      11038.0     -670                     1   5694.98  3  3  3  3.03.03.0   \n",
              "19      11039.0      267                     1   3399.99  1  3  3  1.03.03.0   \n",
              "\n",
              "            segment  \n",
              "0      Big Spenders  \n",
              "1      Big Spenders  \n",
              "2      Big Spenders  \n",
              "3      Big Spenders  \n",
              "4      Big Spenders  \n",
              "5      Big Spenders  \n",
              "6      Big Spenders  \n",
              "7      Big Spenders  \n",
              "8      Big Spenders  \n",
              "9      Big Spenders  \n",
              "10  Loyal Customers  \n",
              "11     Big Spenders  \n",
              "12     Big Spenders  \n",
              "13     Big Spenders  \n",
              "14     Big Spenders  \n",
              "15     Big Spenders  \n",
              "16     Big Spenders  \n",
              "17     Big Spenders  \n",
              "18     Big Spenders  \n",
              "19     Big Spenders  "
            ],
            "text/html": [
              "\n",
              "  <div id=\"df-4ecb4191-fb57-49cf-9b9a-bbbfb76b06fb\">\n",
              "    <div class=\"colab-df-container\">\n",
              "      <div>\n",
              "<style scoped>\n",
              "    .dataframe tbody tr th:only-of-type {\n",
              "        vertical-align: middle;\n",
              "    }\n",
              "\n",
              "    .dataframe tbody tr th {\n",
              "        vertical-align: top;\n",
              "    }\n",
              "\n",
              "    .dataframe thead th {\n",
              "        text-align: right;\n",
              "    }\n",
              "</style>\n",
              "<table border=\"1\" class=\"dataframe\">\n",
              "  <thead>\n",
              "    <tr style=\"text-align: right;\">\n",
              "      <th></th>\n",
              "      <th>CustomerKey</th>\n",
              "      <th>Recency</th>\n",
              "      <th>SalesOrderLineNumber</th>\n",
              "      <th>Monetary</th>\n",
              "      <th>R</th>\n",
              "      <th>F</th>\n",
              "      <th>M</th>\n",
              "      <th>RFM_Score</th>\n",
              "      <th>segment</th>\n",
              "    </tr>\n",
              "  </thead>\n",
              "  <tbody>\n",
              "    <tr>\n",
              "      <th>0</th>\n",
              "      <td>11000.0</td>\n",
              "      <td>-549</td>\n",
              "      <td>5</td>\n",
              "      <td>2507.03</td>\n",
              "      <td>3</td>\n",
              "      <td>2</td>\n",
              "      <td>3</td>\n",
              "      <td>3.02.03.0</td>\n",
              "      <td>Big Spenders</td>\n",
              "    </tr>\n",
              "    <tr>\n",
              "      <th>1</th>\n",
              "      <td>11002.0</td>\n",
              "      <td>298</td>\n",
              "      <td>1</td>\n",
              "      <td>3399.99</td>\n",
              "      <td>1</td>\n",
              "      <td>3</td>\n",
              "      <td>3</td>\n",
              "      <td>1.03.03.0</td>\n",
              "      <td>Big Spenders</td>\n",
              "    </tr>\n",
              "    <tr>\n",
              "      <th>2</th>\n",
              "      <td>11003.0</td>\n",
              "      <td>-431</td>\n",
              "      <td>4</td>\n",
              "      <td>2318.96</td>\n",
              "      <td>3</td>\n",
              "      <td>2</td>\n",
              "      <td>3</td>\n",
              "      <td>3.02.03.0</td>\n",
              "      <td>Big Spenders</td>\n",
              "    </tr>\n",
              "    <tr>\n",
              "      <th>3</th>\n",
              "      <td>11004.0</td>\n",
              "      <td>-547</td>\n",
              "      <td>2</td>\n",
              "      <td>2419.06</td>\n",
              "      <td>3</td>\n",
              "      <td>3</td>\n",
              "      <td>3</td>\n",
              "      <td>3.03.03.0</td>\n",
              "      <td>Big Spenders</td>\n",
              "    </tr>\n",
              "    <tr>\n",
              "      <th>4</th>\n",
              "      <td>11005.0</td>\n",
              "      <td>-548</td>\n",
              "      <td>1</td>\n",
              "      <td>2384.07</td>\n",
              "      <td>3</td>\n",
              "      <td>3</td>\n",
              "      <td>3</td>\n",
              "      <td>3.03.03.0</td>\n",
              "      <td>Big Spenders</td>\n",
              "    </tr>\n",
              "    <tr>\n",
              "      <th>5</th>\n",
              "      <td>11007.0</td>\n",
              "      <td>296</td>\n",
              "      <td>1</td>\n",
              "      <td>3399.99</td>\n",
              "      <td>1</td>\n",
              "      <td>3</td>\n",
              "      <td>3</td>\n",
              "      <td>1.03.03.0</td>\n",
              "      <td>Big Spenders</td>\n",
              "    </tr>\n",
              "    <tr>\n",
              "      <th>6</th>\n",
              "      <td>11008.0</td>\n",
              "      <td>-487</td>\n",
              "      <td>4</td>\n",
              "      <td>4731.32</td>\n",
              "      <td>3</td>\n",
              "      <td>2</td>\n",
              "      <td>3</td>\n",
              "      <td>3.02.03.0</td>\n",
              "      <td>Big Spenders</td>\n",
              "    </tr>\n",
              "    <tr>\n",
              "      <th>7</th>\n",
              "      <td>11009.0</td>\n",
              "      <td>-555</td>\n",
              "      <td>2</td>\n",
              "      <td>2419.06</td>\n",
              "      <td>3</td>\n",
              "      <td>3</td>\n",
              "      <td>3</td>\n",
              "      <td>3.03.03.0</td>\n",
              "      <td>Big Spenders</td>\n",
              "    </tr>\n",
              "    <tr>\n",
              "      <th>8</th>\n",
              "      <td>11016.0</td>\n",
              "      <td>-466</td>\n",
              "      <td>3</td>\n",
              "      <td>2332.28</td>\n",
              "      <td>3</td>\n",
              "      <td>3</td>\n",
              "      <td>3</td>\n",
              "      <td>3.03.03.0</td>\n",
              "      <td>Big Spenders</td>\n",
              "    </tr>\n",
              "    <tr>\n",
              "      <th>9</th>\n",
              "      <td>11017.0</td>\n",
              "      <td>-427</td>\n",
              "      <td>2</td>\n",
              "      <td>2316.97</td>\n",
              "      <td>3</td>\n",
              "      <td>3</td>\n",
              "      <td>3</td>\n",
              "      <td>3.03.03.0</td>\n",
              "      <td>Big Spenders</td>\n",
              "    </tr>\n",
              "    <tr>\n",
              "      <th>10</th>\n",
              "      <td>11019.0</td>\n",
              "      <td>-677</td>\n",
              "      <td>2</td>\n",
              "      <td>86.26</td>\n",
              "      <td>3</td>\n",
              "      <td>3</td>\n",
              "      <td>2</td>\n",
              "      <td>3.03.02.0</td>\n",
              "      <td>Loyal Customers</td>\n",
              "    </tr>\n",
              "    <tr>\n",
              "      <th>11</th>\n",
              "      <td>11025.0</td>\n",
              "      <td>299</td>\n",
              "      <td>1</td>\n",
              "      <td>3374.99</td>\n",
              "      <td>1</td>\n",
              "      <td>3</td>\n",
              "      <td>3</td>\n",
              "      <td>1.03.03.0</td>\n",
              "      <td>Big Spenders</td>\n",
              "    </tr>\n",
              "    <tr>\n",
              "      <th>12</th>\n",
              "      <td>11029.0</td>\n",
              "      <td>-547</td>\n",
              "      <td>3</td>\n",
              "      <td>2408.97</td>\n",
              "      <td>3</td>\n",
              "      <td>3</td>\n",
              "      <td>3</td>\n",
              "      <td>3.03.03.0</td>\n",
              "      <td>Big Spenders</td>\n",
              "    </tr>\n",
              "    <tr>\n",
              "      <th>13</th>\n",
              "      <td>11030.0</td>\n",
              "      <td>269</td>\n",
              "      <td>1</td>\n",
              "      <td>3399.99</td>\n",
              "      <td>1</td>\n",
              "      <td>3</td>\n",
              "      <td>3</td>\n",
              "      <td>1.03.03.0</td>\n",
              "      <td>Big Spenders</td>\n",
              "    </tr>\n",
              "    <tr>\n",
              "      <th>14</th>\n",
              "      <td>11031.0</td>\n",
              "      <td>273</td>\n",
              "      <td>1</td>\n",
              "      <td>3399.99</td>\n",
              "      <td>1</td>\n",
              "      <td>3</td>\n",
              "      <td>3</td>\n",
              "      <td>1.03.03.0</td>\n",
              "      <td>Big Spenders</td>\n",
              "    </tr>\n",
              "    <tr>\n",
              "      <th>15</th>\n",
              "      <td>11033.0</td>\n",
              "      <td>-639</td>\n",
              "      <td>2</td>\n",
              "      <td>2354.98</td>\n",
              "      <td>3</td>\n",
              "      <td>3</td>\n",
              "      <td>3</td>\n",
              "      <td>3.03.03.0</td>\n",
              "      <td>Big Spenders</td>\n",
              "    </tr>\n",
              "    <tr>\n",
              "      <th>16</th>\n",
              "      <td>11034.0</td>\n",
              "      <td>-644</td>\n",
              "      <td>1</td>\n",
              "      <td>5694.98</td>\n",
              "      <td>3</td>\n",
              "      <td>3</td>\n",
              "      <td>3</td>\n",
              "      <td>3.03.03.0</td>\n",
              "      <td>Big Spenders</td>\n",
              "    </tr>\n",
              "    <tr>\n",
              "      <th>17</th>\n",
              "      <td>11035.0</td>\n",
              "      <td>268</td>\n",
              "      <td>1</td>\n",
              "      <td>3374.99</td>\n",
              "      <td>1</td>\n",
              "      <td>3</td>\n",
              "      <td>3</td>\n",
              "      <td>1.03.03.0</td>\n",
              "      <td>Big Spenders</td>\n",
              "    </tr>\n",
              "    <tr>\n",
              "      <th>18</th>\n",
              "      <td>11038.0</td>\n",
              "      <td>-670</td>\n",
              "      <td>1</td>\n",
              "      <td>5694.98</td>\n",
              "      <td>3</td>\n",
              "      <td>3</td>\n",
              "      <td>3</td>\n",
              "      <td>3.03.03.0</td>\n",
              "      <td>Big Spenders</td>\n",
              "    </tr>\n",
              "    <tr>\n",
              "      <th>19</th>\n",
              "      <td>11039.0</td>\n",
              "      <td>267</td>\n",
              "      <td>1</td>\n",
              "      <td>3399.99</td>\n",
              "      <td>1</td>\n",
              "      <td>3</td>\n",
              "      <td>3</td>\n",
              "      <td>1.03.03.0</td>\n",
              "      <td>Big Spenders</td>\n",
              "    </tr>\n",
              "  </tbody>\n",
              "</table>\n",
              "</div>\n",
              "      <button class=\"colab-df-convert\" onclick=\"convertToInteractive('df-4ecb4191-fb57-49cf-9b9a-bbbfb76b06fb')\"\n",
              "              title=\"Convert this dataframe to an interactive table.\"\n",
              "              style=\"display:none;\">\n",
              "        \n",
              "  <svg xmlns=\"http://www.w3.org/2000/svg\" height=\"24px\"viewBox=\"0 0 24 24\"\n",
              "       width=\"24px\">\n",
              "    <path d=\"M0 0h24v24H0V0z\" fill=\"none\"/>\n",
              "    <path d=\"M18.56 5.44l.94 2.06.94-2.06 2.06-.94-2.06-.94-.94-2.06-.94 2.06-2.06.94zm-11 1L8.5 8.5l.94-2.06 2.06-.94-2.06-.94L8.5 2.5l-.94 2.06-2.06.94zm10 10l.94 2.06.94-2.06 2.06-.94-2.06-.94-.94-2.06-.94 2.06-2.06.94z\"/><path d=\"M17.41 7.96l-1.37-1.37c-.4-.4-.92-.59-1.43-.59-.52 0-1.04.2-1.43.59L10.3 9.45l-7.72 7.72c-.78.78-.78 2.05 0 2.83L4 21.41c.39.39.9.59 1.41.59.51 0 1.02-.2 1.41-.59l7.78-7.78 2.81-2.81c.8-.78.8-2.07 0-2.86zM5.41 20L4 18.59l7.72-7.72 1.47 1.35L5.41 20z\"/>\n",
              "  </svg>\n",
              "      </button>\n",
              "      \n",
              "  <style>\n",
              "    .colab-df-container {\n",
              "      display:flex;\n",
              "      flex-wrap:wrap;\n",
              "      gap: 12px;\n",
              "    }\n",
              "\n",
              "    .colab-df-convert {\n",
              "      background-color: #E8F0FE;\n",
              "      border: none;\n",
              "      border-radius: 50%;\n",
              "      cursor: pointer;\n",
              "      display: none;\n",
              "      fill: #1967D2;\n",
              "      height: 32px;\n",
              "      padding: 0 0 0 0;\n",
              "      width: 32px;\n",
              "    }\n",
              "\n",
              "    .colab-df-convert:hover {\n",
              "      background-color: #E2EBFA;\n",
              "      box-shadow: 0px 1px 2px rgba(60, 64, 67, 0.3), 0px 1px 3px 1px rgba(60, 64, 67, 0.15);\n",
              "      fill: #174EA6;\n",
              "    }\n",
              "\n",
              "    [theme=dark] .colab-df-convert {\n",
              "      background-color: #3B4455;\n",
              "      fill: #D2E3FC;\n",
              "    }\n",
              "\n",
              "    [theme=dark] .colab-df-convert:hover {\n",
              "      background-color: #434B5C;\n",
              "      box-shadow: 0px 1px 3px 1px rgba(0, 0, 0, 0.15);\n",
              "      filter: drop-shadow(0px 1px 2px rgba(0, 0, 0, 0.3));\n",
              "      fill: #FFFFFF;\n",
              "    }\n",
              "  </style>\n",
              "\n",
              "      <script>\n",
              "        const buttonEl =\n",
              "          document.querySelector('#df-4ecb4191-fb57-49cf-9b9a-bbbfb76b06fb button.colab-df-convert');\n",
              "        buttonEl.style.display =\n",
              "          google.colab.kernel.accessAllowed ? 'block' : 'none';\n",
              "\n",
              "        async function convertToInteractive(key) {\n",
              "          const element = document.querySelector('#df-4ecb4191-fb57-49cf-9b9a-bbbfb76b06fb');\n",
              "          const dataTable =\n",
              "            await google.colab.kernel.invokeFunction('convertToInteractive',\n",
              "                                                     [key], {});\n",
              "          if (!dataTable) return;\n",
              "\n",
              "          const docLinkHtml = 'Like what you see? Visit the ' +\n",
              "            '<a target=\"_blank\" href=https://colab.research.google.com/notebooks/data_table.ipynb>data table notebook</a>'\n",
              "            + ' to learn more about interactive tables.';\n",
              "          element.innerHTML = '';\n",
              "          dataTable['output_type'] = 'display_data';\n",
              "          await google.colab.output.renderOutput(dataTable, element);\n",
              "          const docLink = document.createElement('div');\n",
              "          docLink.innerHTML = docLinkHtml;\n",
              "          element.appendChild(docLink);\n",
              "        }\n",
              "      </script>\n",
              "    </div>\n",
              "  </div>\n",
              "  "
            ]
          },
          "metadata": {},
          "execution_count": 71
        }
      ],
      "source": [
        "rfm.head(20)"
      ]
    },
    {
      "cell_type": "code",
      "execution_count": null,
      "metadata": {
        "id": "1gZ0m8HUR34h"
      },
      "outputs": [],
      "source": [
        "segment1 = rfm.groupby('segment')['CustomerKey'].nunique().sort_values(ascending=False).reset_index()\n",
        "plt.figure(figsize=(10,8))\n",
        "segment1.drop([0],inplace=True)"
      ]
    },
    {
      "cell_type": "code",
      "execution_count": null,
      "metadata": {
        "id": "KSskBfKAR34i",
        "outputId": "8589cf30-99da-4b40-f973-bcd96180ffd1"
      },
      "outputs": [
        {
          "data": {
            "text/html": [
              "<div>\n",
              "<style scoped>\n",
              "    .dataframe tbody tr th:only-of-type {\n",
              "        vertical-align: middle;\n",
              "    }\n",
              "\n",
              "    .dataframe tbody tr th {\n",
              "        vertical-align: top;\n",
              "    }\n",
              "\n",
              "    .dataframe thead th {\n",
              "        text-align: right;\n",
              "    }\n",
              "</style>\n",
              "<table border=\"1\" class=\"dataframe\">\n",
              "  <thead>\n",
              "    <tr style=\"text-align: right;\">\n",
              "      <th></th>\n",
              "      <th>segment</th>\n",
              "      <th>CustomerKey</th>\n",
              "    </tr>\n",
              "  </thead>\n",
              "  <tbody>\n",
              "    <tr>\n",
              "      <th>1</th>\n",
              "      <td>Lost Customers</td>\n",
              "      <td>1773</td>\n",
              "    </tr>\n",
              "    <tr>\n",
              "      <th>2</th>\n",
              "      <td>Big Spenders</td>\n",
              "      <td>1659</td>\n",
              "    </tr>\n",
              "    <tr>\n",
              "      <th>3</th>\n",
              "      <td>Others</td>\n",
              "      <td>1624</td>\n",
              "    </tr>\n",
              "    <tr>\n",
              "      <th>4</th>\n",
              "      <td>Best Customers</td>\n",
              "      <td>996</td>\n",
              "    </tr>\n",
              "    <tr>\n",
              "      <th>5</th>\n",
              "      <td>Almost Lost Customers</td>\n",
              "      <td>737</td>\n",
              "    </tr>\n",
              "  </tbody>\n",
              "</table>\n",
              "</div>"
            ],
            "text/plain": [
              "                 segment  CustomerKey\n",
              "1         Lost Customers         1773\n",
              "2           Big Spenders         1659\n",
              "3                 Others         1624\n",
              "4         Best Customers          996\n",
              "5  Almost Lost Customers          737"
            ]
          },
          "execution_count": 37,
          "metadata": {},
          "output_type": "execute_result"
        },
        {
          "data": {
            "text/plain": [
              "737"
            ]
          },
          "execution_count": 37,
          "metadata": {},
          "output_type": "execute_result"
        }
      ],
      "source": [
        "segment\n",
        "minimumsegment = min(segment['CustomerKey'])\n",
        "minimumsegment"
      ]
    },
    {
      "cell_type": "code",
      "execution_count": null,
      "metadata": {
        "id": "ms3AwO0cR34n"
      },
      "outputs": [],
      "source": [
        "rfm_df = pd.DataFrame(r_f_m)\n",
        "rfm_drop = df_RFM.drop(['segment'],axis=1)"
      ]
    },
    {
      "cell_type": "code",
      "execution_count": null,
      "metadata": {
        "id": "xN7KfRGeR34n",
        "outputId": "b6560ef6-c5da-402c-bd69-a71e8e3c71ff"
      },
      "outputs": [
        {
          "data": {
            "text/html": [
              "<div>\n",
              "<style scoped>\n",
              "    .dataframe tbody tr th:only-of-type {\n",
              "        vertical-align: middle;\n",
              "    }\n",
              "\n",
              "    .dataframe tbody tr th {\n",
              "        vertical-align: top;\n",
              "    }\n",
              "\n",
              "    .dataframe thead th {\n",
              "        text-align: right;\n",
              "    }\n",
              "</style>\n",
              "<table border=\"1\" class=\"dataframe\">\n",
              "  <thead>\n",
              "    <tr style=\"text-align: right;\">\n",
              "      <th></th>\n",
              "      <th>CustomerKey</th>\n",
              "      <th>Recency</th>\n",
              "      <th>LineNumber</th>\n",
              "      <th>Monetary</th>\n",
              "      <th>R</th>\n",
              "      <th>F</th>\n",
              "      <th>M</th>\n",
              "      <th>RFM_Score</th>\n",
              "      <th>segment</th>\n",
              "      <th>Response</th>\n",
              "    </tr>\n",
              "  </thead>\n",
              "  <tbody>\n",
              "    <tr>\n",
              "      <th>0</th>\n",
              "      <td>11000</td>\n",
              "      <td>212</td>\n",
              "      <td>5</td>\n",
              "      <td>4849.00</td>\n",
              "      <td>1</td>\n",
              "      <td>2</td>\n",
              "      <td>3</td>\n",
              "      <td>123</td>\n",
              "      <td>Big Spenders</td>\n",
              "      <td>0</td>\n",
              "    </tr>\n",
              "    <tr>\n",
              "      <th>1</th>\n",
              "      <td>11001</td>\n",
              "      <td>319</td>\n",
              "      <td>6</td>\n",
              "      <td>2419.93</td>\n",
              "      <td>1</td>\n",
              "      <td>2</td>\n",
              "      <td>3</td>\n",
              "      <td>123</td>\n",
              "      <td>Big Spenders</td>\n",
              "      <td>1</td>\n",
              "    </tr>\n",
              "    <tr>\n",
              "      <th>2</th>\n",
              "      <td>11002</td>\n",
              "      <td>281</td>\n",
              "      <td>2</td>\n",
              "      <td>2419.06</td>\n",
              "      <td>1</td>\n",
              "      <td>3</td>\n",
              "      <td>3</td>\n",
              "      <td>133</td>\n",
              "      <td>Lost Customers</td>\n",
              "      <td>0</td>\n",
              "    </tr>\n",
              "    <tr>\n",
              "      <th>3</th>\n",
              "      <td>11003</td>\n",
              "      <td>205</td>\n",
              "      <td>4</td>\n",
              "      <td>4739.30</td>\n",
              "      <td>1</td>\n",
              "      <td>2</td>\n",
              "      <td>3</td>\n",
              "      <td>123</td>\n",
              "      <td>Big Spenders</td>\n",
              "      <td>0</td>\n",
              "    </tr>\n",
              "    <tr>\n",
              "      <th>4</th>\n",
              "      <td>11004</td>\n",
              "      <td>214</td>\n",
              "      <td>3</td>\n",
              "      <td>4796.02</td>\n",
              "      <td>1</td>\n",
              "      <td>3</td>\n",
              "      <td>3</td>\n",
              "      <td>133</td>\n",
              "      <td>Lost Customers</td>\n",
              "      <td>0</td>\n",
              "    </tr>\n",
              "  </tbody>\n",
              "</table>\n",
              "</div>"
            ],
            "text/plain": [
              "   CustomerKey  Recency  LineNumber  Monetary  R  F  M RFM_Score  \\\n",
              "0        11000      212           5   4849.00  1  2  3       123   \n",
              "1        11001      319           6   2419.93  1  2  3       123   \n",
              "2        11002      281           2   2419.06  1  3  3       133   \n",
              "3        11003      205           4   4739.30  1  2  3       123   \n",
              "4        11004      214           3   4796.02  1  3  3       133   \n",
              "\n",
              "          segment  Response  \n",
              "0    Big Spenders         0  \n",
              "1    Big Spenders         1  \n",
              "2  Lost Customers         0  \n",
              "3    Big Spenders         0  \n",
              "4  Lost Customers         0  "
            ]
          },
          "execution_count": 112,
          "metadata": {},
          "output_type": "execute_result"
        }
      ],
      "source": [
        "rfm_df = pd.DataFrame(r_f_m)\n",
        "rfm_customer = pd.merge(rfm_df,response_df,on='CustomerKey')\n",
        "rfm_customer.head()\n",
        "rfm_customer.set_index('CustomerKey',inplace=True)"
      ]
    },
    {
      "cell_type": "code",
      "source": [
        "from sklearn import preprocessing"
      ],
      "metadata": {
        "id": "akxYIux4a9WO"
      },
      "execution_count": null,
      "outputs": []
    },
    {
      "cell_type": "code",
      "execution_count": null,
      "metadata": {
        "id": "Ce4-9uwGR34n",
        "outputId": "370db098-9b75-4d0b-d8d2-c984c3a72782"
      },
      "outputs": [
        {
          "data": {
            "text/html": [
              "<div>\n",
              "<style scoped>\n",
              "    .dataframe tbody tr th:only-of-type {\n",
              "        vertical-align: middle;\n",
              "    }\n",
              "\n",
              "    .dataframe tbody tr th {\n",
              "        vertical-align: top;\n",
              "    }\n",
              "\n",
              "    .dataframe thead th {\n",
              "        text-align: right;\n",
              "    }\n",
              "</style>\n",
              "<table border=\"1\" class=\"dataframe\">\n",
              "  <thead>\n",
              "    <tr style=\"text-align: right;\">\n",
              "      <th></th>\n",
              "      <th>Recency</th>\n",
              "      <th>LineNumber</th>\n",
              "      <th>Monetary</th>\n",
              "      <th>R</th>\n",
              "      <th>F</th>\n",
              "      <th>M</th>\n",
              "      <th>RFM_Score</th>\n",
              "      <th>Response</th>\n",
              "    </tr>\n",
              "    <tr>\n",
              "      <th>CustomerKey</th>\n",
              "      <th></th>\n",
              "      <th></th>\n",
              "      <th></th>\n",
              "      <th></th>\n",
              "      <th></th>\n",
              "      <th></th>\n",
              "      <th></th>\n",
              "      <th></th>\n",
              "    </tr>\n",
              "  </thead>\n",
              "  <tbody>\n",
              "    <tr>\n",
              "      <th>11000</th>\n",
              "      <td>212</td>\n",
              "      <td>5</td>\n",
              "      <td>4849.00</td>\n",
              "      <td>1</td>\n",
              "      <td>2</td>\n",
              "      <td>3</td>\n",
              "      <td>123</td>\n",
              "      <td>0</td>\n",
              "    </tr>\n",
              "    <tr>\n",
              "      <th>11001</th>\n",
              "      <td>319</td>\n",
              "      <td>6</td>\n",
              "      <td>2419.93</td>\n",
              "      <td>1</td>\n",
              "      <td>2</td>\n",
              "      <td>3</td>\n",
              "      <td>123</td>\n",
              "      <td>1</td>\n",
              "    </tr>\n",
              "    <tr>\n",
              "      <th>11002</th>\n",
              "      <td>281</td>\n",
              "      <td>2</td>\n",
              "      <td>2419.06</td>\n",
              "      <td>1</td>\n",
              "      <td>3</td>\n",
              "      <td>3</td>\n",
              "      <td>133</td>\n",
              "      <td>0</td>\n",
              "    </tr>\n",
              "    <tr>\n",
              "      <th>11003</th>\n",
              "      <td>205</td>\n",
              "      <td>4</td>\n",
              "      <td>4739.30</td>\n",
              "      <td>1</td>\n",
              "      <td>2</td>\n",
              "      <td>3</td>\n",
              "      <td>123</td>\n",
              "      <td>0</td>\n",
              "    </tr>\n",
              "    <tr>\n",
              "      <th>11004</th>\n",
              "      <td>214</td>\n",
              "      <td>3</td>\n",
              "      <td>4796.02</td>\n",
              "      <td>1</td>\n",
              "      <td>3</td>\n",
              "      <td>3</td>\n",
              "      <td>133</td>\n",
              "      <td>0</td>\n",
              "    </tr>\n",
              "  </tbody>\n",
              "</table>\n",
              "</div>"
            ],
            "text/plain": [
              "             Recency  LineNumber  Monetary  R  F  M RFM_Score  Response\n",
              "CustomerKey                                                            \n",
              "11000            212           5   4849.00  1  2  3       123         0\n",
              "11001            319           6   2419.93  1  2  3       123         1\n",
              "11002            281           2   2419.06  1  3  3       133         0\n",
              "11003            205           4   4739.30  1  2  3       123         0\n",
              "11004            214           3   4796.02  1  3  3       133         0"
            ]
          },
          "execution_count": 114,
          "metadata": {},
          "output_type": "execute_result"
        }
      ],
      "source": [
        "label_encoder = preprocessing.LabelEncoder()\n",
        "df_RFMRv['segment']= label_encoder.fit_transform(df_RFMRv['segment']) \n",
        "list = ['segment']\n",
        "df_RFMRv.drop(df_RFMRv[list], axis=1, inplace=True)\n",
        "df_RFMRv.head()"
      ]
    },
    {
      "cell_type": "markdown",
      "metadata": {
        "id": "i-Qo8G2_R34o"
      },
      "source": [
        "# Modelling "
      ]
    },
    {
      "cell_type": "code",
      "source": [
        "from sklearn.model_selection import train_test_split\n",
        "from sklearn.linear_model import LogisticRegression\n",
        "from sklearn import metrics"
      ],
      "metadata": {
        "id": "Xgqj5bLCa4YS"
      },
      "execution_count": null,
      "outputs": []
    },
    {
      "cell_type": "code",
      "execution_count": null,
      "metadata": {
        "id": "5PjlEaHoR34o",
        "outputId": "98234148-7d01-4f45-9c5d-ca4a7af3c2a8"
      },
      "outputs": [
        {
          "name": "stdout",
          "output_type": "stream",
          "text": [
            "X_train shape: (11083, 8)\n",
            "X_test shape: (4751, 8)\n"
          ]
        }
      ],
      "source": [
        "X_train, X_test, y_train, y_test = train_test_split(df_RFM1,df_RFMRv['Response'],test_size=0.3,random_state=0)\n",
        "\n",
        "print('X_train shape: {}'.format(X_train.shape))\n",
        "print('X_test shape: {}'.format(X_test.shape))"
      ]
    },
    {
      "cell_type": "code",
      "execution_count": null,
      "metadata": {
        "id": "TfSoNNBtR34p",
        "outputId": "d68837e0-548e-4e49-d610-743b3890992b"
      },
      "outputs": [
        {
          "data": {
            "text/plain": [
              "LogisticRegression()"
            ]
          },
          "execution_count": 116,
          "metadata": {},
          "output_type": "execute_result"
        }
      ],
      "source": [
        "logistic_regression= LogisticRegression(max_iter=100)\n",
        "logistic_regression.fit(X_train,y_train)\n",
        "y_pred=logistic_regression.predict(X_test)"
      ]
    },
    {
      "cell_type": "code",
      "execution_count": null,
      "metadata": {
        "id": "H4oI22mrR34q",
        "outputId": "dd00789a-9edb-49ef-b52a-37c7612b2a65"
      },
      "outputs": [
        {
          "data": {
            "text/plain": [
              "CustomerKey    0\n",
              "Recency        0\n",
              "LineNumber     0\n",
              "Monetary       0\n",
              "R              0\n",
              "F              0\n",
              "M              0\n",
              "RFM_Score      0\n",
              "dtype: int64"
            ]
          },
          "execution_count": 117,
          "metadata": {},
          "output_type": "execute_result"
        }
      ],
      "source": [
        "X_train.isnull().sum()"
      ]
    },
    {
      "cell_type": "code",
      "execution_count": null,
      "metadata": {
        "id": "ZEa420VGR34q",
        "outputId": "988f4a5a-ac91-43ee-acec-dee2254183ec"
      },
      "outputs": [
        {
          "data": {
            "text/plain": [
              "<matplotlib.axes._subplots.AxesSubplot at 0x1cc24656370>"
            ]
          },
          "execution_count": 118,
          "metadata": {},
          "output_type": "execute_result"
        },
        {
          "data": {
            "image/png": "[encoded data removed]",
            "text/plain": [
              "<Figure size 432x288 with 2 Axes>"
            ]
          },
          "metadata": {
            "needs_background": "light"
          },
          "output_type": "display_data"
        }
      ],
      "source": [
        "confusion_matrix = pd.crosstab(y_test, y_pred, rownames=['Actual'], colnames=['Predicted'])\n",
        "sns.heatmap(confusion_matrix, annot=True)"
      ]
    },
    {
      "cell_type": "code",
      "source": [
        "from sklearn.metrics import plot_roc_curve"
      ],
      "metadata": {
        "id": "W1lBsviyauqN"
      },
      "execution_count": null,
      "outputs": []
    },
    {
      "cell_type": "code",
      "execution_count": null,
      "metadata": {
        "id": "udCNHHSRR34r",
        "outputId": "3c4e7b6f-f326-4ad2-d778-d978c11c0d3d"
      },
      "outputs": [
        {
          "data": {
            "text/plain": [
              "<sklearn.metrics._plot.roc_curve.RocCurveDisplay at 0x1cc1df45580>"
            ]
          },
          "execution_count": 119,
          "metadata": {},
          "output_type": "execute_result"
        },
        {
          "data": {
            "image/png": "[encoded data removed]",
            "text/plain": [
              "<Figure size 504x504 with 1 Axes>"
            ]
          },
          "metadata": {
            "needs_background": "light"
          },
          "output_type": "display_data"
        }
      ],
      "source": [
        "fig,ax = plt.subplots(figsize=(7,7))\n",
        "plot_roc_curve(logistic_regression, X_test, y_test, ax = ax)"
      ]
    },
    {
      "cell_type": "code",
      "source": [
        "from sklearn.metrics import classification_report, confusion_matrix"
      ],
      "metadata": {
        "id": "5pxlAW0kah0M"
      },
      "execution_count": null,
      "outputs": []
    },
    {
      "cell_type": "code",
      "source": [
        "from sklearn.metrics import f1_score"
      ],
      "metadata": {
        "id": "kjBvvAXQaqbz"
      },
      "execution_count": null,
      "outputs": []
    },
    {
      "cell_type": "code",
      "execution_count": null,
      "metadata": {
        "id": "DwtYq8UUR34r",
        "outputId": "4bcd647b-4aea-4e0a-9f8c-f56f456f5b88"
      },
      "outputs": [
        {
          "name": "stdout",
          "output_type": "stream",
          "text": [
            "              precision    recall  f1-score   support\n",
            "\n",
            "           0       0.95      1.00      0.98      4527\n",
            "           1       0.00      0.00      0.00       224\n",
            "\n",
            "    accuracy                           0.95      4751\n",
            "   macro avg       0.48      0.50      0.49      4751\n",
            "weighted avg       0.91      0.95      0.93      4751\n",
            "\n",
            "Accuracy:  0.9528520311513365\n",
            "0.9298471965988575\n"
          ]
        },
        {
          "name": "stderr",
          "output_type": "stream",
          "text": [
            "C:\\Users\\Surendra\\anaconda3\\lib\\site-packages\\sklearn\\metrics\\_classification.py:1221: UndefinedMetricWarning: Precision and F-score are ill-defined and being set to 0.0 in labels with no predicted samples. Use `zero_division` parameter to control this behavior.\n",
            "  _warn_prf(average, modifier, msg_start, len(result))\n"
          ]
        }
      ],
      "source": [
        "print(classification_report(y_test,y_pred))\n",
        "print('Accuracy: ',metrics.accuracy_score(y_test, y_pred))\n",
        "plt.show()\n",
        "print(f1_score(y_test, y_pred, average = \"weighted\"))\n"
      ]
    },
    {
      "cell_type": "code",
      "source": [
        "from sklearn.tree import DecisionTreeClassifier"
      ],
      "metadata": {
        "id": "c_HF0ilDaer1"
      },
      "execution_count": null,
      "outputs": []
    },
    {
      "cell_type": "code",
      "execution_count": null,
      "metadata": {
        "id": "LJBe61v1R34s",
        "outputId": "ebd04d25-55fb-403a-8121-b66793847086"
      },
      "outputs": [
        {
          "data": {
            "text/plain": [
              "DecisionTreeClassifier(max_depth=4, random_state=0)"
            ]
          },
          "execution_count": 121,
          "metadata": {},
          "output_type": "execute_result"
        }
      ],
      "source": [
        "clf = DecisionTreeClassifier(random_state=0, max_depth=4)\n",
        "clf.fit(X_train,y_train)\n",
        "y_pred = clf.predict(X_test)"
      ]
    },
    {
      "cell_type": "code",
      "source": [
        "from sklearn.metrics import classification_report "
      ],
      "metadata": {
        "id": "Ii3lBhDVacBY"
      },
      "execution_count": null,
      "outputs": []
    },
    {
      "cell_type": "code",
      "execution_count": null,
      "metadata": {
        "id": "d7xsdK-SR34s",
        "outputId": "da3f45bd-8a22-417c-8a76-a8629e42b080"
      },
      "outputs": [
        {
          "name": "stdout",
          "output_type": "stream",
          "text": [
            "              precision    recall  f1-score   support\n",
            "\n",
            "           0       0.95      1.00      0.98      4527\n",
            "           1       0.70      0.03      0.06       224\n",
            "\n",
            "    accuracy                           0.95      4751\n",
            "   macro avg       0.83      0.52      0.52      4751\n",
            "weighted avg       0.94      0.95      0.93      4751\n",
            "\n"
          ]
        }
      ],
      "source": [
        "print(classification_report(y_test, y_pred))"
      ]
    },
    {
      "cell_type": "code",
      "source": [
        "from sklearn.metrics import confusion_matrix"
      ],
      "metadata": {
        "id": "Ohme7TRtaZ9X"
      },
      "execution_count": null,
      "outputs": []
    },
    {
      "cell_type": "code",
      "execution_count": null,
      "metadata": {
        "id": "yhEJnTVbR34s",
        "outputId": "357a5f9b-c8fd-4b9d-ccea-c94d6fbd473e"
      },
      "outputs": [
        {
          "name": "stdout",
          "output_type": "stream",
          "text": [
            "[[4524    3]\n",
            " [ 217    7]]\n"
          ]
        },
        {
          "data": {
            "text/plain": [
              "<matplotlib.axes._subplots.AxesSubplot at 0x1cc1eac7340>"
            ]
          },
          "execution_count": 123,
          "metadata": {},
          "output_type": "execute_result"
        },
        {
          "data": {
            "image/png": "[encoded data removed]",
            "text/plain": [
              "<Figure size 432x288 with 2 Axes>"
            ]
          },
          "metadata": {
            "needs_background": "light"
          },
          "output_type": "display_data"
        }
      ],
      "source": [
        "print(confusion_matrix(y_test, y_pred))\n",
        "confusion_matrix = pd.crosstab(y_test, y_pred, rownames=['Actual'], colnames=['Predicted'])\n",
        "sns.heatmap(confusion_matrix, annot=True)"
      ]
    },
    {
      "cell_type": "code",
      "source": [
        "from sklearn.metrics import plot_roc_curve"
      ],
      "metadata": {
        "id": "8noHw5AIaYfX"
      },
      "execution_count": null,
      "outputs": []
    },
    {
      "cell_type": "code",
      "execution_count": null,
      "metadata": {
        "id": "W8_fCJm6R34s",
        "outputId": "74dc2c4f-726c-4d75-c30f-afd075986653"
      },
      "outputs": [
        {
          "data": {
            "text/plain": [
              "<sklearn.metrics._plot.roc_curve.RocCurveDisplay at 0x1cc1df452b0>"
            ]
          },
          "execution_count": 124,
          "metadata": {},
          "output_type": "execute_result"
        },
        {
          "data": {
            "image/png": "[encoded data removed]",
            "text/plain": [
              "<Figure size 504x504 with 1 Axes>"
            ]
          },
          "metadata": {
            "needs_background": "light"
          },
          "output_type": "display_data"
        }
      ],
      "source": [
        "fig,ax = plt.subplots(figsize=(7,7))\n",
        "plot_roc_curve(clf, X_test, y_test, ax = ax)"
      ]
    },
    {
      "cell_type": "code",
      "execution_count": null,
      "metadata": {
        "id": "85xNqXfBR34s",
        "outputId": "266c8772-cfe5-4da9-bb9c-7e60229d225d"
      },
      "outputs": [
        {
          "data": {
            "text/plain": [
              "<matplotlib.axes._subplots.AxesSubplot at 0x1cc258483a0>"
            ]
          },
          "execution_count": 125,
          "metadata": {},
          "output_type": "execute_result"
        },
        {
          "data": {
            "image/png": "[encoded data removed]",
            "text/plain": [
              "<Figure size 432x288 with 1 Axes>"
            ]
          },
          "metadata": {
            "needs_background": "light"
          },
          "output_type": "display_data"
        }
      ],
      "source": [
        "describe = clf.feature_importances_\n",
        "bars = pd.Series(describe,index=X_train.columns.values)\n",
        "bars.sort_values()[-10:].plot(kind = 'bar')"
      ]
    },
    {
      "cell_type": "code",
      "source": [
        "from sklearn.ensemble import RandomForestClassifier"
      ],
      "metadata": {
        "id": "TNHrJMEiaLqV"
      },
      "execution_count": null,
      "outputs": []
    },
    {
      "cell_type": "code",
      "execution_count": null,
      "metadata": {
        "id": "XqTqXp3TR34t",
        "outputId": "69f05334-d437-4742-80db-62508a37b8fc"
      },
      "outputs": [
        {
          "data": {
            "text/plain": [
              "RandomForestClassifier(random_state=0)"
            ]
          },
          "execution_count": 126,
          "metadata": {},
          "output_type": "execute_result"
        },
        {
          "name": "stdout",
          "output_type": "stream",
          "text": [
            "Model accuracy score with 10 decision-trees : 0.9569\n"
          ]
        }
      ],
      "source": [
        "rfc = RandomForestClassifier(random_state=0)\n",
        "rfc.fit(X_train, y_train)\n",
        "y_pred = rfc.predict(X_test)"
      ]
    },
    {
      "cell_type": "code",
      "source": [
        "from sklearn.metrics import classification_report "
      ],
      "metadata": {
        "id": "xp9FbvJ9aGAj"
      },
      "execution_count": null,
      "outputs": []
    },
    {
      "cell_type": "code",
      "execution_count": null,
      "metadata": {
        "id": "WON72181R34t",
        "outputId": "d02a8b37-27f1-486b-e091-54034712ddbb"
      },
      "outputs": [
        {
          "name": "stdout",
          "output_type": "stream",
          "text": [
            "              precision    recall  f1-score   support\n",
            "\n",
            "           0       0.96      1.00      0.98      4527\n",
            "           1       0.81      0.11      0.20       224\n",
            "\n",
            "    accuracy                           0.96      4751\n",
            "   macro avg       0.88      0.56      0.59      4751\n",
            "weighted avg       0.95      0.96      0.94      4751\n",
            "\n"
          ]
        }
      ],
      "source": [
        "print(classification_report(y_test, y_pred))"
      ]
    },
    {
      "cell_type": "code",
      "source": [
        "from sklearn.metrics import confusion_matrix"
      ],
      "metadata": {
        "id": "TZGX066LaDcz"
      },
      "execution_count": null,
      "outputs": []
    },
    {
      "cell_type": "code",
      "execution_count": null,
      "metadata": {
        "id": "jcCzYQ-aR34t",
        "outputId": "08a854d2-0e12-4002-b839-980ce767d2dc"
      },
      "outputs": [
        {
          "name": "stdout",
          "output_type": "stream",
          "text": [
            "[[4521    6]\n",
            " [ 199   25]]\n"
          ]
        },
        {
          "data": {
            "text/plain": [
              "<matplotlib.axes._subplots.AxesSubplot at 0x1cc1dfeb370>"
            ]
          },
          "execution_count": 127,
          "metadata": {},
          "output_type": "execute_result"
        },
        {
          "data": {
            "image/png": "[encoded data removed]",
            "text/plain": [
              "<Figure size 432x288 with 2 Axes>"
            ]
          },
          "metadata": {
            "needs_background": "light"
          },
          "output_type": "display_data"
        }
      ],
      "source": [
        "print(confusion_matrix(y_test, y_pred))\n",
        "confusion_matrix = pd.crosstab(y_test, y_pred, rownames=['Actual'], colnames=['Predicted'])\n",
        "sns.heatmap(confusion_matrix, annot=True)"
      ]
    },
    {
      "cell_type": "code",
      "source": [
        "from sklearn.metrics import plot_roc_curve"
      ],
      "metadata": {
        "id": "2s3Sz41iaBiW"
      },
      "execution_count": null,
      "outputs": []
    },
    {
      "cell_type": "code",
      "execution_count": null,
      "metadata": {
        "id": "Yl6tCj3cR34t",
        "outputId": "0af8af07-39d5-4f97-e6aa-15c095e3524d"
      },
      "outputs": [
        {
          "data": {
            "text/plain": [
              "<sklearn.metrics._plot.roc_curve.RocCurveDisplay at 0x1cc2579eee0>"
            ]
          },
          "execution_count": 129,
          "metadata": {},
          "output_type": "execute_result"
        },
        {
          "data": {
            "image/png": "[encoded data removed]",
            "text/plain": [
              "<Figure size 504x504 with 1 Axes>"
            ]
          },
          "metadata": {
            "needs_background": "light"
          },
          "output_type": "display_data"
        }
      ],
      "source": [
        "fig,ax = plt.subplots(figsize=(7,7))\n",
        "plot_roc_curve(clf, X_test, y_test, ax = ax)"
      ]
    },
    {
      "cell_type": "code",
      "source": [
        "from sklearn.naive_bayes import GaussianNB"
      ],
      "metadata": {
        "id": "VIKjD27HZ89c"
      },
      "execution_count": null,
      "outputs": []
    },
    {
      "cell_type": "code",
      "execution_count": null,
      "metadata": {
        "id": "IkNXeY9BR34t",
        "outputId": "b65196e0-6c26-44f6-c7d2-811ec054d8ea"
      },
      "outputs": [
        {
          "data": {
            "text/plain": [
              "GaussianNB()"
            ]
          },
          "execution_count": 130,
          "metadata": {},
          "output_type": "execute_result"
        }
      ],
      "source": [
        "gnb = GaussianNB()\n",
        "gnb.fit(X_train, y_train)\n",
        "y_pred = gnb.predict(X_test)"
      ]
    },
    {
      "cell_type": "code",
      "source": [
        "from sklearn.metrics import classification_report "
      ],
      "metadata": {
        "id": "LdhpAMJQZ6-F"
      },
      "execution_count": null,
      "outputs": []
    },
    {
      "cell_type": "code",
      "execution_count": null,
      "metadata": {
        "id": "7ZI1TlTFR34t",
        "outputId": "00f11f15-2a73-43e1-a478-55f32edcfdcf"
      },
      "outputs": [
        {
          "name": "stdout",
          "output_type": "stream",
          "text": [
            "              precision    recall  f1-score   support\n",
            "\n",
            "           0       0.95      1.00      0.98      4527\n",
            "           1       0.00      0.00      0.00       224\n",
            "\n",
            "    accuracy                           0.95      4751\n",
            "   macro avg       0.48      0.50      0.49      4751\n",
            "weighted avg       0.91      0.95      0.93      4751\n",
            "\n"
          ]
        },
        {
          "name": "stderr",
          "output_type": "stream",
          "text": [
            "C:\\Users\\Surendra\\anaconda3\\lib\\site-packages\\sklearn\\metrics\\_classification.py:1221: UndefinedMetricWarning: Precision and F-score are ill-defined and being set to 0.0 in labels with no predicted samples. Use `zero_division` parameter to control this behavior.\n",
            "  _warn_prf(average, modifier, msg_start, len(result))\n"
          ]
        }
      ],
      "source": [
        "print(classification_report(y_test, y_pred))"
      ]
    },
    {
      "cell_type": "code",
      "source": [
        "from sklearn.metrics import confusion_matrix"
      ],
      "metadata": {
        "id": "eJ4BqkMnZ42L"
      },
      "execution_count": null,
      "outputs": []
    },
    {
      "cell_type": "code",
      "execution_count": null,
      "metadata": {
        "id": "F0HDy80WR34t",
        "outputId": "20022f57-722c-4624-9f7a-a54618ccef66"
      },
      "outputs": [
        {
          "name": "stdout",
          "output_type": "stream",
          "text": [
            "[[4527    0]\n",
            " [ 224    0]]\n"
          ]
        },
        {
          "data": {
            "text/plain": [
              "<matplotlib.axes._subplots.AxesSubplot at 0x1cc23235d90>"
            ]
          },
          "execution_count": 132,
          "metadata": {},
          "output_type": "execute_result"
        },
        {
          "data": {
            "image/png": "[encoded data removed]",
            "text/plain": [
              "<Figure size 432x288 with 2 Axes>"
            ]
          },
          "metadata": {
            "needs_background": "light"
          },
          "output_type": "display_data"
        }
      ],
      "source": [
        "print(confusion_matrix(y_test, y_pred))\n",
        "confusion_matrix = pd.crosstab(y_test, y_pred, rownames=['Actual'], colnames=['Predicted'])\n",
        "sns.heatmap(confusion_matrix, annot=True)"
      ]
    },
    {
      "cell_type": "code",
      "execution_count": null,
      "metadata": {
        "id": "sNpYqU77R34t",
        "outputId": "b2198419-23a3-46d2-968b-8c9fd5f77cb0"
      },
      "outputs": [
        {
          "data": {
            "text/plain": [
              "<sklearn.metrics._plot.roc_curve.RocCurveDisplay at 0x1cc1dd64940>"
            ]
          },
          "execution_count": 133,
          "metadata": {},
          "output_type": "execute_result"
        },
        {
          "data": {
            "image/png": "[encoded data removed]",
            "text/plain": [
              "<Figure size 504x504 with 1 Axes>"
            ]
          },
          "metadata": {
            "needs_background": "light"
          },
          "output_type": "display_data"
        }
      ],
      "source": [
        "from sklearn.metrics import plot_roc_curve\n",
        "fig,ax = plt.subplots(figsize=(7,7))\n",
        "plot_roc_curve(clf, X_test, y_test, ax = ax)"
      ]
    }
  ],
  "metadata": {
    "kernelspec": {
      "display_name": "Python 3",
      "language": "python",
      "name": "python3"
    },
    "language_info": {
      "codemirror_mode": {
        "name": "ipython",
        "version": 3
      },
      "file_extension": ".py",
      "mimetype": "text/x-python",
      "name": "python",
      "nbconvert_exporter": "python",
      "pygments_lexer": "ipython3",
      "version": "3.8.3"
    },
    "colab": {
      "provenance": []
    }
  },
  "nbformat": 4,
  "nbformat_minor": 0
}